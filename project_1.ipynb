{
 "cells": [
  {
   "cell_type": "markdown",
   "id": "89198aeb-d9b7-4a0e-a816-5b9ea564e9bc",
   "metadata": {
    "tags": []
   },
   "source": [
    "# Исследование надёжности заёмщиков\n"
   ]
  },
  {
   "cell_type": "markdown",
   "id": "9aecce7f",
   "metadata": {},
   "source": [
    "## Описание проекта "
   ]
  },
  {
   "cell_type": "markdown",
   "id": "92680059",
   "metadata": {},
   "source": [
    "Заказчик — кредитный отдел банка. Необходимо  разобраться, влияет ли семейное положение и количество детей клиента на факт погашения кредита в срок. Входные данные от банка — статистика о платёжеспособности клиентов.\n",
    "Результаты исследования будут учтены при построении модели кредитного скоринга — специальной системы, которая оценивает способность потенциального заёмщика вернуть кредит банку.\n"
   ]
  },
  {
   "cell_type": "markdown",
   "id": "8fd25fbf",
   "metadata": {},
   "source": [
    "Импорт необходимых библиотек"
   ]
  },
  {
   "cell_type": "code",
   "execution_count": 1,
   "id": "0dcaacb5-4a88-44dc-8cff-fac207b74dde",
   "metadata": {},
   "outputs": [],
   "source": [
    "import pandas as pd"
   ]
  },
  {
   "cell_type": "markdown",
   "id": "f69583f3",
   "metadata": {},
   "source": [
    "Чтение данных из файла и сохранение их в переменной data"
   ]
  },
  {
   "cell_type": "code",
   "execution_count": 2,
   "id": "2557d0e4-0462-479c-a644-4dfc01aa5022",
   "metadata": {},
   "outputs": [],
   "source": [
    "try:\n",
    "    data = pd.read_csv('/Users/romanvasyliev/Downloads/data.csv')\n",
    "except:\n",
    "    data = pd.read_csv('/datasets/data.csv')"
   ]
  },
  {
   "cell_type": "markdown",
   "id": "93a8fbf8",
   "metadata": {},
   "source": [
    "Просмотрим общую информацию о данных "
   ]
  },
  {
   "cell_type": "code",
   "execution_count": 3,
   "id": "04173a82-863b-4995-8ffb-773745219224",
   "metadata": {},
   "outputs": [
    {
     "name": "stdout",
     "output_type": "stream",
     "text": [
      "<class 'pandas.core.frame.DataFrame'>\n",
      "RangeIndex: 21525 entries, 0 to 21524\n",
      "Data columns (total 12 columns):\n",
      " #   Column            Non-Null Count  Dtype  \n",
      "---  ------            --------------  -----  \n",
      " 0   children          21525 non-null  int64  \n",
      " 1   days_employed     19351 non-null  float64\n",
      " 2   dob_years         21525 non-null  int64  \n",
      " 3   education         21525 non-null  object \n",
      " 4   education_id      21525 non-null  int64  \n",
      " 5   family_status     21525 non-null  object \n",
      " 6   family_status_id  21525 non-null  int64  \n",
      " 7   gender            21525 non-null  object \n",
      " 8   income_type       21525 non-null  object \n",
      " 9   debt              21525 non-null  int64  \n",
      " 10  total_income      19351 non-null  float64\n",
      " 11  purpose           21525 non-null  object \n",
      "dtypes: float64(2), int64(5), object(5)\n",
      "memory usage: 2.0+ MB\n"
     ]
    }
   ],
   "source": [
    "data.info()\n"
   ]
  },
  {
   "cell_type": "markdown",
   "id": "c7af25c2",
   "metadata": {},
   "source": [
    "Рассмотрим данные в таблице подробнее:\n",
    "* Всего в наличии 12 столбцов - с типами данных int64, float64, object\n",
    "* В двух столбцах видим пропуски в данных "
   ]
  },
  {
   "cell_type": "markdown",
   "id": "131ed754",
   "metadata": {},
   "source": [
    "Подробно разберём какие в data столбцы и какую информацию они содержат:\n",
    "\n",
    "* children — количество детей в семье\n",
    "* days_employed — трудовой стаж в днях\n",
    "* dob_years — возраст клиента в годах\n",
    "* education — образование клиента\n",
    "* education_id — идентификатор образования\n",
    "* family_status — семейное положение\n",
    "* family_status_id — идентификатор семейного положения\n",
    "* gender — пол клиента\n",
    "* income_type — тип занятости\n",
    "* debt — имел ли задолженность по возврату кредитов\n",
    "* total_income — доход в месяц\n",
    "* purpose — цель получения кредита"
   ]
  },
  {
   "cell_type": "markdown",
   "id": "11178a88",
   "metadata": {},
   "source": [
    " ## Предобработка данных"
   ]
  },
  {
   "cell_type": "markdown",
   "id": "18e4b24d",
   "metadata": {},
   "source": [
    "### Стиль заголовков"
   ]
  },
  {
   "cell_type": "markdown",
   "id": "5c6832a6-3900-4a1a-8720-b6fcc83f9f4a",
   "metadata": {},
   "source": [
    "На этом этапе мы переименуем столбцы, исключим пропуски, а также проверим данные на наличие дубликатов."
   ]
  },
  {
   "cell_type": "markdown",
   "id": "6ead77ea",
   "metadata": {
    "tags": []
   },
   "source": [
    "Проверим корректность именования столбцов в таблице для дальнейшего использования:"
   ]
  },
  {
   "cell_type": "code",
   "execution_count": 4,
   "id": "ae87aa8b",
   "metadata": {
    "tags": []
   },
   "outputs": [
    {
     "data": {
      "text/plain": [
       "Index(['children', 'days_employed', 'dob_years', 'education', 'education_id',\n",
       "       'family_status', 'family_status_id', 'gender', 'income_type', 'debt',\n",
       "       'total_income', 'purpose'],\n",
       "      dtype='object')"
      ]
     },
     "execution_count": 4,
     "metadata": {},
     "output_type": "execute_result"
    }
   ],
   "source": [
    "data.columns"
   ]
  },
  {
   "cell_type": "markdown",
   "id": "b5daa5c3",
   "metadata": {},
   "source": [
    "В названиях столбцов нет пробелов или же ошибок."
   ]
  },
  {
   "cell_type": "markdown",
   "id": "24bfa4f7",
   "metadata": {},
   "source": [
    "### Заполнение пропусков"
   ]
  },
  {
   "cell_type": "markdown",
   "id": "0024363e",
   "metadata": {
    "tags": []
   },
   "source": [
    "\n",
    "Проверим данные на наличие пропусков вызовом  метода sum() для суммирования пропущенных значений."
   ]
  },
  {
   "cell_type": "code",
   "execution_count": 5,
   "id": "433eeb68-c441-486f-88e7-f4280ab148f6",
   "metadata": {},
   "outputs": [
    {
     "data": {
      "text/plain": [
       "children            0.000000\n",
       "days_employed       0.100999\n",
       "dob_years           0.000000\n",
       "education           0.000000\n",
       "education_id        0.000000\n",
       "family_status       0.000000\n",
       "family_status_id    0.000000\n",
       "gender              0.000000\n",
       "income_type         0.000000\n",
       "debt                0.000000\n",
       "total_income        0.100999\n",
       "purpose             0.000000\n",
       "dtype: float64"
      ]
     },
     "execution_count": 5,
     "metadata": {},
     "output_type": "execute_result"
    }
   ],
   "source": [
    "data.isna().mean()"
   ]
  },
  {
   "cell_type": "markdown",
   "id": "180ce2c4",
   "metadata": {},
   "source": [
    "Видим одинаковое количество пропусков в обоих столбцах - возможно это из-за ошибки в заполнении данных, некорректном заполнении или выгрузке данных. Так как оба столбца отражают количественные данные ( стаж работы в днях и доход в месяц) корректнее будет заполнить эти данные средними значениями или же удалить эти данные в случае если эти потерянные данные составляют небольшой процент от общей массы. "
   ]
  },
  {
   "cell_type": "markdown",
   "id": "7bad0a61",
   "metadata": {},
   "source": [
    "Давайте узнаем процент отсутствующих данных во всем массиве, для этого найдем отношение пропущенных значений к общему количеству строк"
   ]
  },
  {
   "cell_type": "markdown",
   "id": "a7b32745",
   "metadata": {},
   "source": [
    "Как видно из анализа - 10 процентов достаточно большое количество данных, и простое удаление этих данных возможно внесет большие искажения в окончательный результат. Поэтому давайте заполним отсутствующие значения средними."
   ]
  },
  {
   "cell_type": "markdown",
   "id": "4f476947-20f3-47a6-9e13-0e55800238f5",
   "metadata": {},
   "source": [
    "Взглянем на первые строки в таблице и оценим данные "
   ]
  },
  {
   "cell_type": "code",
   "execution_count": 6,
   "id": "41a7af17",
   "metadata": {
    "tags": []
   },
   "outputs": [
    {
     "data": {
      "text/html": [
       "<div>\n",
       "<style scoped>\n",
       "    .dataframe tbody tr th:only-of-type {\n",
       "        vertical-align: middle;\n",
       "    }\n",
       "\n",
       "    .dataframe tbody tr th {\n",
       "        vertical-align: top;\n",
       "    }\n",
       "\n",
       "    .dataframe thead th {\n",
       "        text-align: right;\n",
       "    }\n",
       "</style>\n",
       "<table border=\"1\" class=\"dataframe\">\n",
       "  <thead>\n",
       "    <tr style=\"text-align: right;\">\n",
       "      <th></th>\n",
       "      <th>children</th>\n",
       "      <th>days_employed</th>\n",
       "      <th>dob_years</th>\n",
       "      <th>education</th>\n",
       "      <th>education_id</th>\n",
       "      <th>family_status</th>\n",
       "      <th>family_status_id</th>\n",
       "      <th>gender</th>\n",
       "      <th>income_type</th>\n",
       "      <th>debt</th>\n",
       "      <th>total_income</th>\n",
       "      <th>purpose</th>\n",
       "    </tr>\n",
       "  </thead>\n",
       "  <tbody>\n",
       "    <tr>\n",
       "      <th>0</th>\n",
       "      <td>1</td>\n",
       "      <td>-8437.673028</td>\n",
       "      <td>42</td>\n",
       "      <td>высшее</td>\n",
       "      <td>0</td>\n",
       "      <td>женат / замужем</td>\n",
       "      <td>0</td>\n",
       "      <td>F</td>\n",
       "      <td>сотрудник</td>\n",
       "      <td>0</td>\n",
       "      <td>253875.639453</td>\n",
       "      <td>покупка жилья</td>\n",
       "    </tr>\n",
       "    <tr>\n",
       "      <th>1</th>\n",
       "      <td>1</td>\n",
       "      <td>-4024.803754</td>\n",
       "      <td>36</td>\n",
       "      <td>среднее</td>\n",
       "      <td>1</td>\n",
       "      <td>женат / замужем</td>\n",
       "      <td>0</td>\n",
       "      <td>F</td>\n",
       "      <td>сотрудник</td>\n",
       "      <td>0</td>\n",
       "      <td>112080.014102</td>\n",
       "      <td>приобретение автомобиля</td>\n",
       "    </tr>\n",
       "    <tr>\n",
       "      <th>2</th>\n",
       "      <td>0</td>\n",
       "      <td>-5623.422610</td>\n",
       "      <td>33</td>\n",
       "      <td>Среднее</td>\n",
       "      <td>1</td>\n",
       "      <td>женат / замужем</td>\n",
       "      <td>0</td>\n",
       "      <td>M</td>\n",
       "      <td>сотрудник</td>\n",
       "      <td>0</td>\n",
       "      <td>145885.952297</td>\n",
       "      <td>покупка жилья</td>\n",
       "    </tr>\n",
       "    <tr>\n",
       "      <th>3</th>\n",
       "      <td>3</td>\n",
       "      <td>-4124.747207</td>\n",
       "      <td>32</td>\n",
       "      <td>среднее</td>\n",
       "      <td>1</td>\n",
       "      <td>женат / замужем</td>\n",
       "      <td>0</td>\n",
       "      <td>M</td>\n",
       "      <td>сотрудник</td>\n",
       "      <td>0</td>\n",
       "      <td>267628.550329</td>\n",
       "      <td>дополнительное образование</td>\n",
       "    </tr>\n",
       "    <tr>\n",
       "      <th>4</th>\n",
       "      <td>0</td>\n",
       "      <td>340266.072047</td>\n",
       "      <td>53</td>\n",
       "      <td>среднее</td>\n",
       "      <td>1</td>\n",
       "      <td>гражданский брак</td>\n",
       "      <td>1</td>\n",
       "      <td>F</td>\n",
       "      <td>пенсионер</td>\n",
       "      <td>0</td>\n",
       "      <td>158616.077870</td>\n",
       "      <td>сыграть свадьбу</td>\n",
       "    </tr>\n",
       "    <tr>\n",
       "      <th>5</th>\n",
       "      <td>0</td>\n",
       "      <td>-926.185831</td>\n",
       "      <td>27</td>\n",
       "      <td>высшее</td>\n",
       "      <td>0</td>\n",
       "      <td>гражданский брак</td>\n",
       "      <td>1</td>\n",
       "      <td>M</td>\n",
       "      <td>компаньон</td>\n",
       "      <td>0</td>\n",
       "      <td>255763.565419</td>\n",
       "      <td>покупка жилья</td>\n",
       "    </tr>\n",
       "    <tr>\n",
       "      <th>6</th>\n",
       "      <td>0</td>\n",
       "      <td>-2879.202052</td>\n",
       "      <td>43</td>\n",
       "      <td>высшее</td>\n",
       "      <td>0</td>\n",
       "      <td>женат / замужем</td>\n",
       "      <td>0</td>\n",
       "      <td>F</td>\n",
       "      <td>компаньон</td>\n",
       "      <td>0</td>\n",
       "      <td>240525.971920</td>\n",
       "      <td>операции с жильем</td>\n",
       "    </tr>\n",
       "    <tr>\n",
       "      <th>7</th>\n",
       "      <td>0</td>\n",
       "      <td>-152.779569</td>\n",
       "      <td>50</td>\n",
       "      <td>СРЕДНЕЕ</td>\n",
       "      <td>1</td>\n",
       "      <td>женат / замужем</td>\n",
       "      <td>0</td>\n",
       "      <td>M</td>\n",
       "      <td>сотрудник</td>\n",
       "      <td>0</td>\n",
       "      <td>135823.934197</td>\n",
       "      <td>образование</td>\n",
       "    </tr>\n",
       "    <tr>\n",
       "      <th>8</th>\n",
       "      <td>2</td>\n",
       "      <td>-6929.865299</td>\n",
       "      <td>35</td>\n",
       "      <td>ВЫСШЕЕ</td>\n",
       "      <td>0</td>\n",
       "      <td>гражданский брак</td>\n",
       "      <td>1</td>\n",
       "      <td>F</td>\n",
       "      <td>сотрудник</td>\n",
       "      <td>0</td>\n",
       "      <td>95856.832424</td>\n",
       "      <td>на проведение свадьбы</td>\n",
       "    </tr>\n",
       "    <tr>\n",
       "      <th>9</th>\n",
       "      <td>0</td>\n",
       "      <td>-2188.756445</td>\n",
       "      <td>41</td>\n",
       "      <td>среднее</td>\n",
       "      <td>1</td>\n",
       "      <td>женат / замужем</td>\n",
       "      <td>0</td>\n",
       "      <td>M</td>\n",
       "      <td>сотрудник</td>\n",
       "      <td>0</td>\n",
       "      <td>144425.938277</td>\n",
       "      <td>покупка жилья для семьи</td>\n",
       "    </tr>\n",
       "  </tbody>\n",
       "</table>\n",
       "</div>"
      ],
      "text/plain": [
       "   children  days_employed  dob_years education  education_id  \\\n",
       "0         1   -8437.673028         42    высшее             0   \n",
       "1         1   -4024.803754         36   среднее             1   \n",
       "2         0   -5623.422610         33   Среднее             1   \n",
       "3         3   -4124.747207         32   среднее             1   \n",
       "4         0  340266.072047         53   среднее             1   \n",
       "5         0    -926.185831         27    высшее             0   \n",
       "6         0   -2879.202052         43    высшее             0   \n",
       "7         0    -152.779569         50   СРЕДНЕЕ             1   \n",
       "8         2   -6929.865299         35    ВЫСШЕЕ             0   \n",
       "9         0   -2188.756445         41   среднее             1   \n",
       "\n",
       "      family_status  family_status_id gender income_type  debt   total_income  \\\n",
       "0   женат / замужем                 0      F   сотрудник     0  253875.639453   \n",
       "1   женат / замужем                 0      F   сотрудник     0  112080.014102   \n",
       "2   женат / замужем                 0      M   сотрудник     0  145885.952297   \n",
       "3   женат / замужем                 0      M   сотрудник     0  267628.550329   \n",
       "4  гражданский брак                 1      F   пенсионер     0  158616.077870   \n",
       "5  гражданский брак                 1      M   компаньон     0  255763.565419   \n",
       "6   женат / замужем                 0      F   компаньон     0  240525.971920   \n",
       "7   женат / замужем                 0      M   сотрудник     0  135823.934197   \n",
       "8  гражданский брак                 1      F   сотрудник     0   95856.832424   \n",
       "9   женат / замужем                 0      M   сотрудник     0  144425.938277   \n",
       "\n",
       "                      purpose  \n",
       "0               покупка жилья  \n",
       "1     приобретение автомобиля  \n",
       "2               покупка жилья  \n",
       "3  дополнительное образование  \n",
       "4             сыграть свадьбу  \n",
       "5               покупка жилья  \n",
       "6           операции с жильем  \n",
       "7                 образование  \n",
       "8       на проведение свадьбы  \n",
       "9     покупка жилья для семьи  "
      ]
     },
     "execution_count": 6,
     "metadata": {},
     "output_type": "execute_result"
    }
   ],
   "source": [
    "data.head(10)"
   ]
  },
  {
   "cell_type": "markdown",
   "id": "5139dcce",
   "metadata": {},
   "source": [
    "Видим необычный набор данных в столбце days_employed - стаж работы. Стаж работы не может быть отрацательным - соответственно наблюдается ошибка в данных и необходимо сменить отрицательные значения на положительные. Так же наблюдаем, что в строке 4 стоит очень большое число - которое не может характеризовать стаж, к тому же оно положительное в отличии от всех остальных и исключительно у пенсионеров.   Проверим гипотезу что только у пенсионеров в данной таблице стоят положительные числа в таблице."
   ]
  },
  {
   "cell_type": "markdown",
   "id": "6095dafc",
   "metadata": {},
   "source": [
    "Узнаем общее количество пенсионеров в таблице"
   ]
  },
  {
   "cell_type": "code",
   "execution_count": 7,
   "id": "87674c99",
   "metadata": {},
   "outputs": [
    {
     "data": {
      "text/plain": [
       "3856"
      ]
     },
     "execution_count": 7,
     "metadata": {},
     "output_type": "execute_result"
    }
   ],
   "source": [
    "data[data['income_type'] == 'пенсионер']['income_type'].count()"
   ]
  },
  {
   "cell_type": "markdown",
   "id": "cb0673a2",
   "metadata": {},
   "source": [
    "Проверим сколько пенсионеров имеют положительный стаж работы "
   ]
  },
  {
   "cell_type": "code",
   "execution_count": 8,
   "id": "57eda3c3",
   "metadata": {},
   "outputs": [
    {
     "data": {
      "text/plain": [
       "3443"
      ]
     },
     "execution_count": 8,
     "metadata": {},
     "output_type": "execute_result"
    }
   ],
   "source": [
    "data[(data['days_employed'] > 0) & (data['income_type'] == 'пенсионер')]['days_employed'].count()"
   ]
  },
  {
   "cell_type": "markdown",
   "id": "abdf56ee",
   "metadata": {},
   "source": [
    "Мы видим, что есть некоторые различия в количестве и скорее всего это как раз из-за отсутствущих данных. Узнаем сколько строк отсутствует для категории пенсионер"
   ]
  },
  {
   "cell_type": "code",
   "execution_count": 9,
   "id": "1958b44e",
   "metadata": {},
   "outputs": [
    {
     "data": {
      "text/plain": [
       "413"
      ]
     },
     "execution_count": 9,
     "metadata": {},
     "output_type": "execute_result"
    }
   ],
   "source": [
    "data[data['income_type'] == 'пенсионер']['days_employed'].isna().sum()"
   ]
  },
  {
   "cell_type": "markdown",
   "id": "200215c3",
   "metadata": {},
   "source": [
    " Как видим - гипотеза о том, что только пенсионеры имеют положительные данные в столбце days_employed подтвердилась, и скорее всего это не человеческий фактор,а ошибка при обработке или заполнении данных пенсионеров"
   ]
  },
  {
   "cell_type": "markdown",
   "id": "04fe6855",
   "metadata": {},
   "source": [
    "Заменим все отрицательные значения в столбце  days_employed положительными "
   ]
  },
  {
   "cell_type": "code",
   "execution_count": 10,
   "id": "6aacbee7",
   "metadata": {},
   "outputs": [],
   "source": [
    "data['days_employed'] = abs(data['days_employed'])"
   ]
  },
  {
   "cell_type": "code",
   "execution_count": 11,
   "id": "48bb163f",
   "metadata": {},
   "outputs": [
    {
     "data": {
      "text/html": [
       "<div>\n",
       "<style scoped>\n",
       "    .dataframe tbody tr th:only-of-type {\n",
       "        vertical-align: middle;\n",
       "    }\n",
       "\n",
       "    .dataframe tbody tr th {\n",
       "        vertical-align: top;\n",
       "    }\n",
       "\n",
       "    .dataframe thead th {\n",
       "        text-align: right;\n",
       "    }\n",
       "</style>\n",
       "<table border=\"1\" class=\"dataframe\">\n",
       "  <thead>\n",
       "    <tr style=\"text-align: right;\">\n",
       "      <th></th>\n",
       "      <th>children</th>\n",
       "      <th>days_employed</th>\n",
       "      <th>dob_years</th>\n",
       "      <th>education</th>\n",
       "      <th>education_id</th>\n",
       "      <th>family_status</th>\n",
       "      <th>family_status_id</th>\n",
       "      <th>gender</th>\n",
       "      <th>income_type</th>\n",
       "      <th>debt</th>\n",
       "      <th>total_income</th>\n",
       "      <th>purpose</th>\n",
       "    </tr>\n",
       "  </thead>\n",
       "  <tbody>\n",
       "    <tr>\n",
       "      <th>0</th>\n",
       "      <td>1</td>\n",
       "      <td>8437.673028</td>\n",
       "      <td>42</td>\n",
       "      <td>высшее</td>\n",
       "      <td>0</td>\n",
       "      <td>женат / замужем</td>\n",
       "      <td>0</td>\n",
       "      <td>F</td>\n",
       "      <td>сотрудник</td>\n",
       "      <td>0</td>\n",
       "      <td>253875.639453</td>\n",
       "      <td>покупка жилья</td>\n",
       "    </tr>\n",
       "    <tr>\n",
       "      <th>1</th>\n",
       "      <td>1</td>\n",
       "      <td>4024.803754</td>\n",
       "      <td>36</td>\n",
       "      <td>среднее</td>\n",
       "      <td>1</td>\n",
       "      <td>женат / замужем</td>\n",
       "      <td>0</td>\n",
       "      <td>F</td>\n",
       "      <td>сотрудник</td>\n",
       "      <td>0</td>\n",
       "      <td>112080.014102</td>\n",
       "      <td>приобретение автомобиля</td>\n",
       "    </tr>\n",
       "    <tr>\n",
       "      <th>2</th>\n",
       "      <td>0</td>\n",
       "      <td>5623.422610</td>\n",
       "      <td>33</td>\n",
       "      <td>Среднее</td>\n",
       "      <td>1</td>\n",
       "      <td>женат / замужем</td>\n",
       "      <td>0</td>\n",
       "      <td>M</td>\n",
       "      <td>сотрудник</td>\n",
       "      <td>0</td>\n",
       "      <td>145885.952297</td>\n",
       "      <td>покупка жилья</td>\n",
       "    </tr>\n",
       "    <tr>\n",
       "      <th>3</th>\n",
       "      <td>3</td>\n",
       "      <td>4124.747207</td>\n",
       "      <td>32</td>\n",
       "      <td>среднее</td>\n",
       "      <td>1</td>\n",
       "      <td>женат / замужем</td>\n",
       "      <td>0</td>\n",
       "      <td>M</td>\n",
       "      <td>сотрудник</td>\n",
       "      <td>0</td>\n",
       "      <td>267628.550329</td>\n",
       "      <td>дополнительное образование</td>\n",
       "    </tr>\n",
       "    <tr>\n",
       "      <th>4</th>\n",
       "      <td>0</td>\n",
       "      <td>340266.072047</td>\n",
       "      <td>53</td>\n",
       "      <td>среднее</td>\n",
       "      <td>1</td>\n",
       "      <td>гражданский брак</td>\n",
       "      <td>1</td>\n",
       "      <td>F</td>\n",
       "      <td>пенсионер</td>\n",
       "      <td>0</td>\n",
       "      <td>158616.077870</td>\n",
       "      <td>сыграть свадьбу</td>\n",
       "    </tr>\n",
       "  </tbody>\n",
       "</table>\n",
       "</div>"
      ],
      "text/plain": [
       "   children  days_employed  dob_years education  education_id  \\\n",
       "0         1    8437.673028         42    высшее             0   \n",
       "1         1    4024.803754         36   среднее             1   \n",
       "2         0    5623.422610         33   Среднее             1   \n",
       "3         3    4124.747207         32   среднее             1   \n",
       "4         0  340266.072047         53   среднее             1   \n",
       "\n",
       "      family_status  family_status_id gender income_type  debt   total_income  \\\n",
       "0   женат / замужем                 0      F   сотрудник     0  253875.639453   \n",
       "1   женат / замужем                 0      F   сотрудник     0  112080.014102   \n",
       "2   женат / замужем                 0      M   сотрудник     0  145885.952297   \n",
       "3   женат / замужем                 0      M   сотрудник     0  267628.550329   \n",
       "4  гражданский брак                 1      F   пенсионер     0  158616.077870   \n",
       "\n",
       "                      purpose  \n",
       "0               покупка жилья  \n",
       "1     приобретение автомобиля  \n",
       "2               покупка жилья  \n",
       "3  дополнительное образование  \n",
       "4             сыграть свадьбу  "
      ]
     },
     "execution_count": 11,
     "metadata": {},
     "output_type": "execute_result"
    }
   ],
   "source": [
    "# убедимся что обработка прошла успешно и выведем первые 5 сток\n",
    "data.head(5)"
   ]
  },
  {
   "cell_type": "markdown",
   "id": "e7f0ce0f",
   "metadata": {},
   "source": [
    "Для удобства проведения операций над данными - заменим отсутствующие данные нулями в столбцах days_employed, total_income"
   ]
  },
  {
   "cell_type": "code",
   "execution_count": 12,
   "id": "0960c7ff",
   "metadata": {},
   "outputs": [],
   "source": [
    "data['days_employed'] = data['days_employed'].fillna(0)"
   ]
  },
  {
   "cell_type": "code",
   "execution_count": 13,
   "id": "fb629c65",
   "metadata": {},
   "outputs": [],
   "source": [
    "data['total_income'] = data['total_income'].fillna(0)"
   ]
  },
  {
   "cell_type": "markdown",
   "id": "82291659",
   "metadata": {},
   "source": [
    "### Изменение типов данных"
   ]
  },
  {
   "cell_type": "markdown",
   "id": "48f1fe0b",
   "metadata": {},
   "source": [
    "Сменим тип данных в столбцах на Int c помощью метода astype() и округлим данные с помощью оператора round()"
   ]
  },
  {
   "cell_type": "code",
   "execution_count": 14,
   "id": "8a4066bd",
   "metadata": {},
   "outputs": [],
   "source": [
    "data['days_employed'] = round(data['days_employed'].astype(int))"
   ]
  },
  {
   "cell_type": "code",
   "execution_count": 15,
   "id": "23270c0a",
   "metadata": {},
   "outputs": [],
   "source": [
    "data['total_income'] = round(data['total_income'].astype(int))"
   ]
  },
  {
   "cell_type": "markdown",
   "id": "74056337",
   "metadata": {},
   "source": [
    "Из таблицы выше видно, что стаж работы у пенсионера и сотрудника в тысячи раз отличается и замена отсутствующих значений средней по столбцу была бы не корректной.\n",
    "Чтобы наиболее корректно заменить отсутствущие данные средними значениями - мозьмем эти среднии для каждой категории людей и используем в качестве замены."
   ]
  },
  {
   "cell_type": "markdown",
   "id": "0adf5433",
   "metadata": {},
   "source": [
    "Сгруппируем данные по типу занятости income_type и вычислим средние значения столбца days_employed для каждой категории. И сохраним эти данные в переменной mean_income."
   ]
  },
  {
   "cell_type": "code",
   "execution_count": 16,
   "id": "15855794",
   "metadata": {},
   "outputs": [],
   "source": [
    "mean_income = data.groupby(by='income_type')['days_employed'].mean().round(0)"
   ]
  },
  {
   "cell_type": "code",
   "execution_count": 17,
   "id": "15389cf1",
   "metadata": {},
   "outputs": [
    {
     "data": {
      "text/plain": [
       "income_type\n",
       "безработный        366413.0\n",
       "в декрете            3296.0\n",
       "госслужащий          3057.0\n",
       "компаньон            1900.0\n",
       "пенсионер          325909.0\n",
       "предприниматель       260.0\n",
       "сотрудник            2095.0\n",
       "студент               578.0\n",
       "Name: days_employed, dtype: float64"
      ]
     },
     "execution_count": 17,
     "metadata": {},
     "output_type": "execute_result"
    }
   ],
   "source": [
    "mean_income"
   ]
  },
  {
   "cell_type": "markdown",
   "id": "2655a6ab",
   "metadata": {},
   "source": [
    "После получения таблицы со средними значениями столбца income_type запустим цикл по всему датасету, в котором все отсутствующие значения, приравненные нулю - заменятся средними значениями для каждой категории типа занятости "
   ]
  },
  {
   "cell_type": "code",
   "execution_count": 18,
   "id": "2a489189",
   "metadata": {},
   "outputs": [],
   "source": [
    "for row in range(len(data)):\n",
    "    if data.loc[row]['days_employed'] == 0 :\n",
    "        data.loc[row,'days_employed'] = mean_income[data.loc[row]['income_type']]\n",
    "    "
   ]
  },
  {
   "cell_type": "markdown",
   "id": "2601ff9b",
   "metadata": {},
   "source": [
    "Ту же самую операцию повторим для столбца датасета total_income. "
   ]
  },
  {
   "cell_type": "markdown",
   "id": "ae581da7",
   "metadata": {},
   "source": [
    "Найдем средние значения для столбца total_income, сгруппированные по категориям занятости "
   ]
  },
  {
   "cell_type": "code",
   "execution_count": 19,
   "id": "bb3443f9",
   "metadata": {},
   "outputs": [],
   "source": [
    "mean_days = data.groupby(by = 'income_type')['total_income'].mean().round(0)"
   ]
  },
  {
   "cell_type": "code",
   "execution_count": 20,
   "id": "7a97a88b",
   "metadata": {},
   "outputs": [
    {
     "data": {
      "text/plain": [
       "income_type\n",
       "безработный        131339.0\n",
       "в декрете           53829.0\n",
       "госслужащий        153679.0\n",
       "компаньон          182195.0\n",
       "пенсионер          122440.0\n",
       "предприниматель    249582.0\n",
       "сотрудник          145342.0\n",
       "студент             98201.0\n",
       "Name: total_income, dtype: float64"
      ]
     },
     "execution_count": 20,
     "metadata": {},
     "output_type": "execute_result"
    }
   ],
   "source": [
    "mean_days"
   ]
  },
  {
   "cell_type": "markdown",
   "id": "66762787",
   "metadata": {},
   "source": [
    "Повторим операцию заполнения отсутствующих данных средними значениями для каждой категории "
   ]
  },
  {
   "cell_type": "code",
   "execution_count": 21,
   "id": "e452ba67",
   "metadata": {},
   "outputs": [],
   "source": [
    "for row in range(len(data)):\n",
    "    if data.loc[row]['total_income'] == 0 :\n",
    "        data.loc[row,'total_income'] = mean_days[data.loc[row]['income_type']]"
   ]
  },
  {
   "cell_type": "markdown",
   "id": "67067b94",
   "metadata": {},
   "source": [
    "После заполнения данных, убедимся, что пропусков в таблице нет и можно продолжать искать некорректные данные и исправлять их"
   ]
  },
  {
   "cell_type": "code",
   "execution_count": 22,
   "id": "1120ad3d-c275-463d-9e95-37ed143ff312",
   "metadata": {},
   "outputs": [
    {
     "data": {
      "text/plain": [
       "children            0\n",
       "days_employed       0\n",
       "dob_years           0\n",
       "education           0\n",
       "education_id        0\n",
       "family_status       0\n",
       "family_status_id    0\n",
       "gender              0\n",
       "income_type         0\n",
       "debt                0\n",
       "total_income        0\n",
       "purpose             0\n",
       "dtype: int64"
      ]
     },
     "execution_count": 22,
     "metadata": {},
     "output_type": "execute_result"
    }
   ],
   "source": [
    "data.isna().sum()"
   ]
  },
  {
   "cell_type": "markdown",
   "id": "c1fa1f7e",
   "metadata": {},
   "source": [
    "Удаление дубликатов"
   ]
  },
  {
   "cell_type": "markdown",
   "id": "ab815c55",
   "metadata": {},
   "source": [
    "Проверим список уникальных значений столбца education, так как в данном столбце видно, что одни и те же значения записаны разным размером штрифта.\n",
    "\n",
    "\n"
   ]
  },
  {
   "cell_type": "code",
   "execution_count": 23,
   "id": "f12aa959",
   "metadata": {},
   "outputs": [
    {
     "data": {
      "text/plain": [
       "array(['высшее', 'среднее', 'Среднее', 'СРЕДНЕЕ', 'ВЫСШЕЕ',\n",
       "       'неоконченное высшее', 'начальное', 'Высшее',\n",
       "       'НЕОКОНЧЕННОЕ ВЫСШЕЕ', 'Неоконченное высшее', 'НАЧАЛЬНОЕ',\n",
       "       'Начальное', 'Ученая степень', 'УЧЕНАЯ СТЕПЕНЬ', 'ученая степень'],\n",
       "      dtype=object)"
      ]
     },
     "execution_count": 23,
     "metadata": {},
     "output_type": "execute_result"
    }
   ],
   "source": [
    "data['education'].unique()"
   ]
  },
  {
   "cell_type": "markdown",
   "id": "3fc6094f",
   "metadata": {},
   "source": [
    "Видим, что одни и те же данные указаны в разном регистре и следует это исправить для правильного анализа данных.\n",
    "Используем метод .str.lower() для приведения данных в нижний регистр и проверим что остались только уникальные значения \n",
    "\n"
   ]
  },
  {
   "cell_type": "code",
   "execution_count": 24,
   "id": "f501c8c5-ab43-4dcf-a773-1d926fa16561",
   "metadata": {},
   "outputs": [],
   "source": [
    "data['education'] = data['education'].str.lower()"
   ]
  },
  {
   "cell_type": "code",
   "execution_count": 25,
   "id": "4a1571d6-c78a-4455-954c-4debe801b57d",
   "metadata": {},
   "outputs": [
    {
     "data": {
      "text/plain": [
       "array(['высшее', 'среднее', 'неоконченное высшее', 'начальное',\n",
       "       'ученая степень'], dtype=object)"
      ]
     },
     "execution_count": 25,
     "metadata": {},
     "output_type": "execute_result"
    }
   ],
   "source": [
    "data['education'].unique()"
   ]
  },
  {
   "cell_type": "markdown",
   "id": "c1a0867b",
   "metadata": {},
   "source": [
    "### Дубликаты"
   ]
  },
  {
   "cell_type": "markdown",
   "id": "65a0ba77",
   "metadata": {},
   "source": [
    "Так же давайте проверим наличие дубликатов данных в таблице и удалим их, если они встречаются."
   ]
  },
  {
   "cell_type": "code",
   "execution_count": 26,
   "id": "a146e3bd",
   "metadata": {},
   "outputs": [
    {
     "data": {
      "text/plain": [
       "71"
      ]
     },
     "execution_count": 26,
     "metadata": {},
     "output_type": "execute_result"
    }
   ],
   "source": [
    "# Посмотрим количество дубликатов \n",
    "\n",
    "data.duplicated().sum()"
   ]
  },
  {
   "cell_type": "code",
   "execution_count": 27,
   "id": "ebf925f3",
   "metadata": {},
   "outputs": [],
   "source": [
    "# Удалим ненужные дубликаты и восстановим правильную нумерацию индексов\n",
    "\n",
    "data = data.drop_duplicates().reset_index(drop=True)"
   ]
  },
  {
   "cell_type": "markdown",
   "id": "4b71a0fa",
   "metadata": {},
   "source": [
    "В данных могут встречаться артефакты, которые не отражают действительность и появились по какой-то ошибке. Проверим их наличие в столбце  children"
   ]
  },
  {
   "cell_type": "code",
   "execution_count": 28,
   "id": "0b898277-029c-4d87-8c55-cc30e37e913a",
   "metadata": {
    "tags": []
   },
   "outputs": [
    {
     "data": {
      "text/plain": [
       "array([ 1,  0,  3,  2, -1,  4, 20,  5])"
      ]
     },
     "execution_count": 28,
     "metadata": {},
     "output_type": "execute_result"
    }
   ],
   "source": [
    "data['children'].unique() "
   ]
  },
  {
   "cell_type": "markdown",
   "id": "561eec1a-e9b8-4b1a-8878-5f8b9e8cec80",
   "metadata": {},
   "source": [
    "Явно прослеживается ситуация, когда сразу видно наличие ошибочных данных в датасете - так как наличие отрицательного количества детей, а так же их количество в размере 20 - явно указывает на наличие ошибки в данных. Проверим предположение и сгруппируем данные на столбцу children"
   ]
  },
  {
   "cell_type": "code",
   "execution_count": 29,
   "id": "6853df3c-a76a-45b6-8b3c-d6f247f201b3",
   "metadata": {},
   "outputs": [
    {
     "data": {
      "text/plain": [
       "children\n",
       "-1        47\n",
       " 0     14091\n",
       " 1      4808\n",
       " 2      2052\n",
       " 3       330\n",
       " 4        41\n",
       " 5         9\n",
       " 20       76\n",
       "Name: debt, dtype: int64"
      ]
     },
     "execution_count": 29,
     "metadata": {},
     "output_type": "execute_result"
    }
   ],
   "source": [
    "data.groupby(by = 'children')['debt'].count()"
   ]
  },
  {
   "cell_type": "markdown",
   "id": "eb9dcc4f",
   "metadata": {},
   "source": [
    " Мы нашли отрацательное значения (-1) у 47 строк данных, а так же то, что у 76 человек в поле дети указано колличество 20, что вызывает сомнения в достоверности данных, так что перепроверим и выведим часть данных этого значения.\n",
    "Значение -1 это однозначно ошибка и необходимо ее исправить для корректного анализа, скорее всего она имела человеческий фактор и число детей -1 является числом детей в количество одного ребенка. С помощью функции  abs() изменим значение (-1) в положительное (1)"
   ]
  },
  {
   "cell_type": "code",
   "execution_count": 30,
   "id": "19cfb794-7646-42a9-9402-8d586952a03d",
   "metadata": {},
   "outputs": [],
   "source": [
    "data['children'] = abs(data['children'])"
   ]
  },
  {
   "cell_type": "markdown",
   "id": "63471a1a",
   "metadata": {},
   "source": [
    "А так же посмотрим на первые 5 строк таблицы о людях, у кого есть 20 детей"
   ]
  },
  {
   "cell_type": "code",
   "execution_count": 31,
   "id": "cb487a18-12ac-460e-864b-56c781c3c170",
   "metadata": {},
   "outputs": [
    {
     "data": {
      "text/html": [
       "<div>\n",
       "<style scoped>\n",
       "    .dataframe tbody tr th:only-of-type {\n",
       "        vertical-align: middle;\n",
       "    }\n",
       "\n",
       "    .dataframe tbody tr th {\n",
       "        vertical-align: top;\n",
       "    }\n",
       "\n",
       "    .dataframe thead th {\n",
       "        text-align: right;\n",
       "    }\n",
       "</style>\n",
       "<table border=\"1\" class=\"dataframe\">\n",
       "  <thead>\n",
       "    <tr style=\"text-align: right;\">\n",
       "      <th></th>\n",
       "      <th>children</th>\n",
       "      <th>days_employed</th>\n",
       "      <th>dob_years</th>\n",
       "      <th>education</th>\n",
       "      <th>education_id</th>\n",
       "      <th>family_status</th>\n",
       "      <th>family_status_id</th>\n",
       "      <th>gender</th>\n",
       "      <th>income_type</th>\n",
       "      <th>debt</th>\n",
       "      <th>total_income</th>\n",
       "      <th>purpose</th>\n",
       "    </tr>\n",
       "  </thead>\n",
       "  <tbody>\n",
       "    <tr>\n",
       "      <th>606</th>\n",
       "      <td>20</td>\n",
       "      <td>880</td>\n",
       "      <td>21</td>\n",
       "      <td>среднее</td>\n",
       "      <td>1</td>\n",
       "      <td>женат / замужем</td>\n",
       "      <td>0</td>\n",
       "      <td>M</td>\n",
       "      <td>компаньон</td>\n",
       "      <td>0</td>\n",
       "      <td>145334</td>\n",
       "      <td>покупка жилья</td>\n",
       "    </tr>\n",
       "    <tr>\n",
       "      <th>720</th>\n",
       "      <td>20</td>\n",
       "      <td>855</td>\n",
       "      <td>44</td>\n",
       "      <td>среднее</td>\n",
       "      <td>1</td>\n",
       "      <td>женат / замужем</td>\n",
       "      <td>0</td>\n",
       "      <td>F</td>\n",
       "      <td>компаньон</td>\n",
       "      <td>0</td>\n",
       "      <td>112998</td>\n",
       "      <td>покупка недвижимости</td>\n",
       "    </tr>\n",
       "    <tr>\n",
       "      <th>1074</th>\n",
       "      <td>20</td>\n",
       "      <td>3310</td>\n",
       "      <td>56</td>\n",
       "      <td>среднее</td>\n",
       "      <td>1</td>\n",
       "      <td>женат / замужем</td>\n",
       "      <td>0</td>\n",
       "      <td>F</td>\n",
       "      <td>сотрудник</td>\n",
       "      <td>1</td>\n",
       "      <td>229518</td>\n",
       "      <td>получение образования</td>\n",
       "    </tr>\n",
       "    <tr>\n",
       "      <th>2510</th>\n",
       "      <td>20</td>\n",
       "      <td>2714</td>\n",
       "      <td>59</td>\n",
       "      <td>высшее</td>\n",
       "      <td>0</td>\n",
       "      <td>вдовец / вдова</td>\n",
       "      <td>2</td>\n",
       "      <td>F</td>\n",
       "      <td>сотрудник</td>\n",
       "      <td>0</td>\n",
       "      <td>264474</td>\n",
       "      <td>операции с коммерческой недвижимостью</td>\n",
       "    </tr>\n",
       "    <tr>\n",
       "      <th>2940</th>\n",
       "      <td>20</td>\n",
       "      <td>2161</td>\n",
       "      <td>0</td>\n",
       "      <td>среднее</td>\n",
       "      <td>1</td>\n",
       "      <td>женат / замужем</td>\n",
       "      <td>0</td>\n",
       "      <td>F</td>\n",
       "      <td>сотрудник</td>\n",
       "      <td>0</td>\n",
       "      <td>199739</td>\n",
       "      <td>на покупку автомобиля</td>\n",
       "    </tr>\n",
       "  </tbody>\n",
       "</table>\n",
       "</div>"
      ],
      "text/plain": [
       "      children  days_employed  dob_years education  education_id  \\\n",
       "606         20            880         21   среднее             1   \n",
       "720         20            855         44   среднее             1   \n",
       "1074        20           3310         56   среднее             1   \n",
       "2510        20           2714         59    высшее             0   \n",
       "2940        20           2161          0   среднее             1   \n",
       "\n",
       "        family_status  family_status_id gender income_type  debt  \\\n",
       "606   женат / замужем                 0      M   компаньон     0   \n",
       "720   женат / замужем                 0      F   компаньон     0   \n",
       "1074  женат / замужем                 0      F   сотрудник     1   \n",
       "2510   вдовец / вдова                 2      F   сотрудник     0   \n",
       "2940  женат / замужем                 0      F   сотрудник     0   \n",
       "\n",
       "      total_income                                purpose  \n",
       "606         145334                          покупка жилья  \n",
       "720         112998                   покупка недвижимости  \n",
       "1074        229518                  получение образования  \n",
       "2510        264474  операции с коммерческой недвижимостью  \n",
       "2940        199739                  на покупку автомобиля  "
      ]
     },
     "execution_count": 31,
     "metadata": {},
     "output_type": "execute_result"
    }
   ],
   "source": [
    "data[data['children'] == 20].head(5) "
   ]
  },
  {
   "cell_type": "markdown",
   "id": "1ff4b022",
   "metadata": {},
   "source": [
    "Мы наблюдаем странные данные - согласно которым - человек в 21 год имеет 20 детей. Это явная ошибка в данных. Скорее всего имело место некорректное заполнение данных, аномалия или ошибка - и детей у этих людей скорее всего 2.\n",
    "Заменим количество детей 20 на 2 ребенка во всем датасете"
   ]
  },
  {
   "cell_type": "code",
   "execution_count": 32,
   "id": "98f0adfb-9995-410b-863d-4a868a403dd6",
   "metadata": {},
   "outputs": [],
   "source": [
    "data['children'] = data ['children'].replace (20,2)"
   ]
  },
  {
   "cell_type": "markdown",
   "id": "37c47d05",
   "metadata": {},
   "source": [
    "Проверим итоговый результат обработки данных в колонке children"
   ]
  },
  {
   "cell_type": "code",
   "execution_count": 33,
   "id": "6d2c563b-ac7e-4b40-9c4d-7d29c85a25f6",
   "metadata": {},
   "outputs": [
    {
     "data": {
      "text/plain": [
       "children\n",
       "0    14091\n",
       "1     4855\n",
       "2     2128\n",
       "3      330\n",
       "4       41\n",
       "5        9\n",
       "Name: debt, dtype: int64"
      ]
     },
     "execution_count": 33,
     "metadata": {},
     "output_type": "execute_result"
    }
   ],
   "source": [
    "data.groupby(by = 'children')['debt'].count()"
   ]
  },
  {
   "cell_type": "markdown",
   "id": "5a05173c",
   "metadata": {},
   "source": [
    "Как видим из анализа вывода данных мы убрали некорректные значения и таблица годится для дальнейшего анализа.\n",
    "Повторим те же операции над другими столбцами family_status и income_type"
   ]
  },
  {
   "cell_type": "code",
   "execution_count": 34,
   "id": "0365d7bc-7570-4cf8-a772-4909c60e8c23",
   "metadata": {},
   "outputs": [
    {
     "data": {
      "text/plain": [
       "family_status\n",
       "женат / замужем          12339\n",
       "гражданский брак          4151\n",
       "Не женат / не замужем     2810\n",
       "в разводе                 1195\n",
       "вдовец / вдова             959\n",
       "Name: debt, dtype: int64"
      ]
     },
     "execution_count": 34,
     "metadata": {},
     "output_type": "execute_result"
    }
   ],
   "source": [
    "data.groupby(by = 'family_status')['debt'].count().sort_values(ascending = False)"
   ]
  },
  {
   "cell_type": "code",
   "execution_count": 35,
   "id": "4b54acb4-ffa7-4352-8ca8-2dde559a9f7a",
   "metadata": {},
   "outputs": [
    {
     "data": {
      "text/plain": [
       "income_type\n",
       "сотрудник          11084\n",
       "компаньон           5078\n",
       "пенсионер           3829\n",
       "госслужащий         1457\n",
       "безработный            2\n",
       "предприниматель        2\n",
       "в декрете              1\n",
       "студент                1\n",
       "Name: debt, dtype: int64"
      ]
     },
     "execution_count": 35,
     "metadata": {},
     "output_type": "execute_result"
    }
   ],
   "source": [
    "data.groupby(by = 'income_type')['debt'].count().sort_values(ascending = False)"
   ]
  },
  {
   "cell_type": "markdown",
   "id": "220c5b91",
   "metadata": {},
   "source": [
    "Видим, что повторы отсутствуют и можно перейти в анализу данных в столбце purpose"
   ]
  },
  {
   "cell_type": "code",
   "execution_count": 36,
   "id": "28b51bc9",
   "metadata": {},
   "outputs": [
    {
     "data": {
      "text/plain": [
       "purpose\n",
       "автомобили                                478\n",
       "автомобиль                                494\n",
       "высшее образование                        452\n",
       "дополнительное образование                460\n",
       "жилье                                     646\n",
       "заняться высшим образованием              496\n",
       "заняться образованием                     408\n",
       "на покупку автомобиля                     471\n",
       "на покупку подержанного автомобиля        478\n",
       "на покупку своего автомобиля              505\n",
       "на проведение свадьбы                     768\n",
       "недвижимость                              633\n",
       "образование                               447\n",
       "операции с жильем                         652\n",
       "операции с коммерческой недвижимостью     650\n",
       "операции с недвижимостью                  675\n",
       "операции со своей недвижимостью           627\n",
       "покупка жилой недвижимости                606\n",
       "покупка жилья                             646\n",
       "покупка жилья для сдачи                   651\n",
       "покупка жилья для семьи                   638\n",
       "покупка коммерческой недвижимости         661\n",
       "покупка недвижимости                      621\n",
       "покупка своего жилья                      620\n",
       "получение высшего образования             426\n",
       "получение дополнительного образования     446\n",
       "получение образования                     442\n",
       "приобретение автомобиля                   461\n",
       "профильное образование                    436\n",
       "ремонт жилью                              607\n",
       "свадьба                                   791\n",
       "свой автомобиль                           478\n",
       "сделка с автомобилем                      455\n",
       "сделка с подержанным автомобилем          486\n",
       "строительство жилой недвижимости          624\n",
       "строительство недвижимости                619\n",
       "строительство собственной недвижимости    635\n",
       "сыграть свадьбу                           765\n",
       "Name: debt, dtype: int64"
      ]
     },
     "execution_count": 36,
     "metadata": {},
     "output_type": "execute_result"
    }
   ],
   "source": [
    "data.groupby(by = 'purpose')['debt'].count()"
   ]
  },
  {
   "cell_type": "markdown",
   "id": "e1db1b66",
   "metadata": {},
   "source": [
    "Видим, что имеет место наличие дублирования различных позиций из-за стиля описания.\n",
    "Напишем функцию, с помощью которой сгруппируем цели получения кредита на 4 основные группы:\n",
    "* операции с недвижимостью\n",
    "* операции с автомобилем\n",
    "* проведение свадьбы\n",
    "* получение образования"
   ]
  },
  {
   "cell_type": "code",
   "execution_count": 37,
   "id": "36119a52",
   "metadata": {},
   "outputs": [],
   "source": [
    "def set_purpose_category (row):\n",
    "    purpose = row['purpose']\n",
    "    if 'жил' in purpose:\n",
    "        return 'операции с недвижимостью'\n",
    "    if 'недвиж' in purpose:\n",
    "        return 'операции с недвижимостью'\n",
    "    elif 'авто' in purpose: \n",
    "        return 'операции с автомобилем'\n",
    "    elif 'свад' in purpose: \n",
    "        return 'проведение свадьбы'\n",
    "    elif 'образ' in purpose: \n",
    "        return 'получение образования'"
   ]
  },
  {
   "cell_type": "code",
   "execution_count": 38,
   "id": "d10109c4-307a-4d07-9041-df707ecda017",
   "metadata": {},
   "outputs": [],
   "source": [
    "data['purpose_category'] = data.apply(set_purpose_category, axis = 1) "
   ]
  },
  {
   "cell_type": "code",
   "execution_count": 39,
   "id": "a8cfdf20-c534-4c50-a7f3-608d170c50fc",
   "metadata": {},
   "outputs": [
    {
     "data": {
      "text/plain": [
       "array(['операции с недвижимостью', 'операции с автомобилем',\n",
       "       'получение образования', 'проведение свадьбы'], dtype=object)"
      ]
     },
     "execution_count": 39,
     "metadata": {},
     "output_type": "execute_result"
    }
   ],
   "source": [
    "data['purpose_category'].unique()"
   ]
  },
  {
   "cell_type": "code",
   "execution_count": 40,
   "id": "e5392fa6",
   "metadata": {},
   "outputs": [
    {
     "data": {
      "text/html": [
       "<div>\n",
       "<style scoped>\n",
       "    .dataframe tbody tr th:only-of-type {\n",
       "        vertical-align: middle;\n",
       "    }\n",
       "\n",
       "    .dataframe tbody tr th {\n",
       "        vertical-align: top;\n",
       "    }\n",
       "\n",
       "    .dataframe thead th {\n",
       "        text-align: right;\n",
       "    }\n",
       "</style>\n",
       "<table border=\"1\" class=\"dataframe\">\n",
       "  <thead>\n",
       "    <tr style=\"text-align: right;\">\n",
       "      <th></th>\n",
       "      <th>children</th>\n",
       "      <th>days_employed</th>\n",
       "      <th>dob_years</th>\n",
       "      <th>education</th>\n",
       "      <th>education_id</th>\n",
       "      <th>family_status</th>\n",
       "      <th>family_status_id</th>\n",
       "      <th>gender</th>\n",
       "      <th>income_type</th>\n",
       "      <th>debt</th>\n",
       "      <th>total_income</th>\n",
       "      <th>purpose</th>\n",
       "      <th>purpose_category</th>\n",
       "    </tr>\n",
       "  </thead>\n",
       "  <tbody>\n",
       "    <tr>\n",
       "      <th>0</th>\n",
       "      <td>1</td>\n",
       "      <td>8437</td>\n",
       "      <td>42</td>\n",
       "      <td>высшее</td>\n",
       "      <td>0</td>\n",
       "      <td>женат / замужем</td>\n",
       "      <td>0</td>\n",
       "      <td>F</td>\n",
       "      <td>сотрудник</td>\n",
       "      <td>0</td>\n",
       "      <td>253875</td>\n",
       "      <td>покупка жилья</td>\n",
       "      <td>операции с недвижимостью</td>\n",
       "    </tr>\n",
       "    <tr>\n",
       "      <th>1</th>\n",
       "      <td>1</td>\n",
       "      <td>4024</td>\n",
       "      <td>36</td>\n",
       "      <td>среднее</td>\n",
       "      <td>1</td>\n",
       "      <td>женат / замужем</td>\n",
       "      <td>0</td>\n",
       "      <td>F</td>\n",
       "      <td>сотрудник</td>\n",
       "      <td>0</td>\n",
       "      <td>112080</td>\n",
       "      <td>приобретение автомобиля</td>\n",
       "      <td>операции с автомобилем</td>\n",
       "    </tr>\n",
       "    <tr>\n",
       "      <th>2</th>\n",
       "      <td>0</td>\n",
       "      <td>5623</td>\n",
       "      <td>33</td>\n",
       "      <td>среднее</td>\n",
       "      <td>1</td>\n",
       "      <td>женат / замужем</td>\n",
       "      <td>0</td>\n",
       "      <td>M</td>\n",
       "      <td>сотрудник</td>\n",
       "      <td>0</td>\n",
       "      <td>145885</td>\n",
       "      <td>покупка жилья</td>\n",
       "      <td>операции с недвижимостью</td>\n",
       "    </tr>\n",
       "    <tr>\n",
       "      <th>3</th>\n",
       "      <td>3</td>\n",
       "      <td>4124</td>\n",
       "      <td>32</td>\n",
       "      <td>среднее</td>\n",
       "      <td>1</td>\n",
       "      <td>женат / замужем</td>\n",
       "      <td>0</td>\n",
       "      <td>M</td>\n",
       "      <td>сотрудник</td>\n",
       "      <td>0</td>\n",
       "      <td>267628</td>\n",
       "      <td>дополнительное образование</td>\n",
       "      <td>получение образования</td>\n",
       "    </tr>\n",
       "    <tr>\n",
       "      <th>4</th>\n",
       "      <td>0</td>\n",
       "      <td>340266</td>\n",
       "      <td>53</td>\n",
       "      <td>среднее</td>\n",
       "      <td>1</td>\n",
       "      <td>гражданский брак</td>\n",
       "      <td>1</td>\n",
       "      <td>F</td>\n",
       "      <td>пенсионер</td>\n",
       "      <td>0</td>\n",
       "      <td>158616</td>\n",
       "      <td>сыграть свадьбу</td>\n",
       "      <td>проведение свадьбы</td>\n",
       "    </tr>\n",
       "  </tbody>\n",
       "</table>\n",
       "</div>"
      ],
      "text/plain": [
       "   children  days_employed  dob_years education  education_id  \\\n",
       "0         1           8437         42    высшее             0   \n",
       "1         1           4024         36   среднее             1   \n",
       "2         0           5623         33   среднее             1   \n",
       "3         3           4124         32   среднее             1   \n",
       "4         0         340266         53   среднее             1   \n",
       "\n",
       "      family_status  family_status_id gender income_type  debt  total_income  \\\n",
       "0   женат / замужем                 0      F   сотрудник     0        253875   \n",
       "1   женат / замужем                 0      F   сотрудник     0        112080   \n",
       "2   женат / замужем                 0      M   сотрудник     0        145885   \n",
       "3   женат / замужем                 0      M   сотрудник     0        267628   \n",
       "4  гражданский брак                 1      F   пенсионер     0        158616   \n",
       "\n",
       "                      purpose          purpose_category  \n",
       "0               покупка жилья  операции с недвижимостью  \n",
       "1     приобретение автомобиля    операции с автомобилем  \n",
       "2               покупка жилья  операции с недвижимостью  \n",
       "3  дополнительное образование     получение образования  \n",
       "4             сыграть свадьбу        проведение свадьбы  "
      ]
     },
     "execution_count": 40,
     "metadata": {},
     "output_type": "execute_result"
    }
   ],
   "source": [
    "data.head(5)"
   ]
  },
  {
   "cell_type": "markdown",
   "id": "5dfc58d3",
   "metadata": {},
   "source": [
    "# Проверка гипотез "
   ]
  },
  {
   "cell_type": "markdown",
   "id": "6cf22170",
   "metadata": {},
   "source": [
    "### Создание таблиц - словарей"
   ]
  },
  {
   "cell_type": "markdown",
   "id": "fd1e8be5",
   "metadata": {},
   "source": [
    "Как видим в таблице присутствуют дублирования колонок education - education_id и family_status и family_status_id"
   ]
  },
  {
   "cell_type": "markdown",
   "id": "bef2abbf",
   "metadata": {},
   "source": [
    "\n",
    "Создадим два новых датафрейма, в которых: каждому уникальному значению из education соответствует уникальное значение education_id — в первом; каждому уникальному значению из family_status соответствует уникальное значение family_status_id — во втором. Удалим из исходного датафрейма столбцы education и family_status, оставив только их идентификаторы: education_id и family_status_id. Новые датафреймы будут \"словарями\" к которым мы сможем обращаться по идентификатору."
   ]
  },
  {
   "cell_type": "code",
   "execution_count": 41,
   "id": "fa8ec5b9-188b-4680-9bce-0bf30e17484f",
   "metadata": {},
   "outputs": [
    {
     "data": {
      "text/plain": [
       "array(['высшее', 'среднее', 'неоконченное высшее', 'начальное',\n",
       "       'ученая степень'], dtype=object)"
      ]
     },
     "execution_count": 41,
     "metadata": {},
     "output_type": "execute_result"
    }
   ],
   "source": [
    "# Возьмем уникальные значения колонки education и присвоим их переменной education_uniq\n",
    "education_uniq = data['education'].unique()\n",
    "education_uniq"
   ]
  },
  {
   "cell_type": "markdown",
   "id": "74df83e6",
   "metadata": {},
   "source": [
    " Далее нам необходимо присвоить каждому значению из переменной education_uniq его соответствующее значение из столбца education_id. Для этого создадим цикл, где каждое значение будем сравнивать со значением из датасета и если нашлось совпадение - то возьмем соответствующее значение из столбца education_id и добавим его в переменную education_id. И чтобы дальше зря не анализаровать таблицу - выйдем из цикла, для того чтобы взять следующее значение из education_uniq\n"
   ]
  },
  {
   "cell_type": "code",
   "execution_count": 42,
   "id": "8293ceee-2370-4e78-aaee-42688b30e067",
   "metadata": {},
   "outputs": [],
   "source": [
    "education_id = []\n",
    "for index in education_uniq:\n",
    "    for _ in range(len(data)):\n",
    "        if data.loc[_]['education'] == index :\n",
    "            education_id.append (data.loc[_]['education_id'])\n",
    "            break"
   ]
  },
  {
   "cell_type": "markdown",
   "id": "8797d4bd",
   "metadata": {},
   "source": [
    "Теперь объединим две переменные в один датасет education_dict - что-то вроде аналога словаря "
   ]
  },
  {
   "cell_type": "code",
   "execution_count": 43,
   "id": "fe412418-c783-410b-8d37-8989707d8e0d",
   "metadata": {},
   "outputs": [],
   "source": [
    "education_dict = pd.DataFrame({'education_id':education_id,'education': education_uniq })"
   ]
  },
  {
   "cell_type": "code",
   "execution_count": 44,
   "id": "b3cca789-5df8-476d-bcd8-94e70244ad0d",
   "metadata": {},
   "outputs": [
    {
     "data": {
      "text/html": [
       "<div>\n",
       "<style scoped>\n",
       "    .dataframe tbody tr th:only-of-type {\n",
       "        vertical-align: middle;\n",
       "    }\n",
       "\n",
       "    .dataframe tbody tr th {\n",
       "        vertical-align: top;\n",
       "    }\n",
       "\n",
       "    .dataframe thead th {\n",
       "        text-align: right;\n",
       "    }\n",
       "</style>\n",
       "<table border=\"1\" class=\"dataframe\">\n",
       "  <thead>\n",
       "    <tr style=\"text-align: right;\">\n",
       "      <th></th>\n",
       "      <th>education_id</th>\n",
       "      <th>education</th>\n",
       "    </tr>\n",
       "  </thead>\n",
       "  <tbody>\n",
       "    <tr>\n",
       "      <th>0</th>\n",
       "      <td>0</td>\n",
       "      <td>высшее</td>\n",
       "    </tr>\n",
       "    <tr>\n",
       "      <th>1</th>\n",
       "      <td>1</td>\n",
       "      <td>среднее</td>\n",
       "    </tr>\n",
       "    <tr>\n",
       "      <th>2</th>\n",
       "      <td>2</td>\n",
       "      <td>неоконченное высшее</td>\n",
       "    </tr>\n",
       "    <tr>\n",
       "      <th>3</th>\n",
       "      <td>3</td>\n",
       "      <td>начальное</td>\n",
       "    </tr>\n",
       "    <tr>\n",
       "      <th>4</th>\n",
       "      <td>4</td>\n",
       "      <td>ученая степень</td>\n",
       "    </tr>\n",
       "  </tbody>\n",
       "</table>\n",
       "</div>"
      ],
      "text/plain": [
       "   education_id            education\n",
       "0             0               высшее\n",
       "1             1              среднее\n",
       "2             2  неоконченное высшее\n",
       "3             3            начальное\n",
       "4             4       ученая степень"
      ]
     },
     "execution_count": 44,
     "metadata": {},
     "output_type": "execute_result"
    }
   ],
   "source": [
    "education_dict"
   ]
  },
  {
   "cell_type": "markdown",
   "id": "72823877",
   "metadata": {},
   "source": [
    "Повторим такую же операцию для столбцов family_status и family_status_id"
   ]
  },
  {
   "cell_type": "code",
   "execution_count": 45,
   "id": "ee7cf2e5-37c1-484e-ac58-3fd329a5d67f",
   "metadata": {},
   "outputs": [
    {
     "data": {
      "text/plain": [
       "array(['женат / замужем', 'гражданский брак', 'вдовец / вдова',\n",
       "       'в разводе', 'Не женат / не замужем'], dtype=object)"
      ]
     },
     "execution_count": 45,
     "metadata": {},
     "output_type": "execute_result"
    }
   ],
   "source": [
    "family_uniq = data['family_status'].unique()     # Добавим в переменную уникальные значения столбца family_status\n",
    "family_uniq"
   ]
  },
  {
   "cell_type": "code",
   "execution_count": 46,
   "id": "aead7f6e-eb9e-4617-b24b-d9602a26e610",
   "metadata": {},
   "outputs": [],
   "source": [
    "# Пройдемся циклом и запишем в переменную family_status_id соответствующие значения для столбца family_status\n",
    "\n",
    "family_status_id = []\n",
    "for index in family_uniq:\n",
    "    for _ in range(len(data)):\n",
    "        if data.loc[_]['family_status'] == index :\n",
    "            family_status_id.append (data.loc[_]['family_status_id'])\n",
    "            break"
   ]
  },
  {
   "cell_type": "markdown",
   "id": "db47b9dc",
   "metadata": {},
   "source": [
    "Создадим новый датафрейм  family_dict и выведем на экран"
   ]
  },
  {
   "cell_type": "code",
   "execution_count": 47,
   "id": "8be7b498-c84c-471b-a56a-7dfad22c3b3b",
   "metadata": {},
   "outputs": [
    {
     "data": {
      "text/html": [
       "<div>\n",
       "<style scoped>\n",
       "    .dataframe tbody tr th:only-of-type {\n",
       "        vertical-align: middle;\n",
       "    }\n",
       "\n",
       "    .dataframe tbody tr th {\n",
       "        vertical-align: top;\n",
       "    }\n",
       "\n",
       "    .dataframe thead th {\n",
       "        text-align: right;\n",
       "    }\n",
       "</style>\n",
       "<table border=\"1\" class=\"dataframe\">\n",
       "  <thead>\n",
       "    <tr style=\"text-align: right;\">\n",
       "      <th></th>\n",
       "      <th>family_status_id</th>\n",
       "      <th>family_status</th>\n",
       "    </tr>\n",
       "  </thead>\n",
       "  <tbody>\n",
       "    <tr>\n",
       "      <th>0</th>\n",
       "      <td>0</td>\n",
       "      <td>женат / замужем</td>\n",
       "    </tr>\n",
       "    <tr>\n",
       "      <th>1</th>\n",
       "      <td>1</td>\n",
       "      <td>гражданский брак</td>\n",
       "    </tr>\n",
       "    <tr>\n",
       "      <th>2</th>\n",
       "      <td>2</td>\n",
       "      <td>вдовец / вдова</td>\n",
       "    </tr>\n",
       "    <tr>\n",
       "      <th>3</th>\n",
       "      <td>3</td>\n",
       "      <td>в разводе</td>\n",
       "    </tr>\n",
       "    <tr>\n",
       "      <th>4</th>\n",
       "      <td>4</td>\n",
       "      <td>Не женат / не замужем</td>\n",
       "    </tr>\n",
       "  </tbody>\n",
       "</table>\n",
       "</div>"
      ],
      "text/plain": [
       "   family_status_id          family_status\n",
       "0                 0        женат / замужем\n",
       "1                 1       гражданский брак\n",
       "2                 2         вдовец / вдова\n",
       "3                 3              в разводе\n",
       "4                 4  Не женат / не замужем"
      ]
     },
     "execution_count": 47,
     "metadata": {},
     "output_type": "execute_result"
    }
   ],
   "source": [
    "family_dict = pd.DataFrame({'family_status_id':family_status_id,'family_status': family_uniq })\n",
    "family_dict"
   ]
  },
  {
   "cell_type": "markdown",
   "id": "3b904065",
   "metadata": {},
   "source": [
    "Теперь можно удалить ненужные столбцы, чтобы исключить переполнения датасета одинаковыми по смыслу данными"
   ]
  },
  {
   "cell_type": "markdown",
   "id": "fc09eb5d",
   "metadata": {},
   "source": [
    "### Группировка данных "
   ]
  },
  {
   "cell_type": "code",
   "execution_count": 48,
   "id": "ed235eec-4dd2-4a27-9efd-3faf4a1328ab",
   "metadata": {},
   "outputs": [],
   "source": [
    "data = data.drop(columns = ['education','family_status'])  "
   ]
  },
  {
   "cell_type": "markdown",
   "id": "996601ef",
   "metadata": {},
   "source": [
    "Разделим платежеспособность клиентов банка в датасете в столбце total_income на подкатегории и добавим в столбец total_income_category по следующему принципу\n",
    "* 0–30000 — 'E';\n",
    "* 30001–50000 — 'D';\n",
    "* 50001–200000 — 'C';\n",
    "* 200001–1000000 — 'B';\n",
    "* 1000001 и выше — 'A'.\n",
    "\n",
    "\n"
   ]
  },
  {
   "cell_type": "markdown",
   "id": "62ec07a5",
   "metadata": {},
   "source": [
    "Напишем функцию  set_category , которая будет возвращать значения категории клиента в зависимости от его дохода  "
   ]
  },
  {
   "cell_type": "code",
   "execution_count": 49,
   "id": "932ef445-42bc-4598-b7ec-bea72df82172",
   "metadata": {},
   "outputs": [],
   "source": [
    "def set_category (row):\n",
    "    income=row['total_income']\n",
    "    if income <= 30000:\n",
    "        return 'E'\n",
    "    elif 30001 <= income <= 50000:\n",
    "        return 'D'\n",
    "    elif 50001 <= income <= 200000:\n",
    "        return 'C'\n",
    "    elif 200001 <= income <= 1000000:\n",
    "        return 'B'\n",
    "    elif income > 1000001:\n",
    "        return 'A'"
   ]
  },
  {
   "cell_type": "code",
   "execution_count": 50,
   "id": "a5e50503-ed54-4e8c-84a9-d3fdaf0cdd16",
   "metadata": {},
   "outputs": [],
   "source": [
    "#  Добавим в таблицу столбец с категорией клиента в зависимости от его дохода total_income_category\n",
    "\n",
    "data['total_income_category'] = data.apply(set_category, axis = 1) "
   ]
  },
  {
   "cell_type": "code",
   "execution_count": 51,
   "id": "d487d750-2a10-48b9-863e-4c2027e178da",
   "metadata": {},
   "outputs": [
    {
     "data": {
      "text/html": [
       "<div>\n",
       "<style scoped>\n",
       "    .dataframe tbody tr th:only-of-type {\n",
       "        vertical-align: middle;\n",
       "    }\n",
       "\n",
       "    .dataframe tbody tr th {\n",
       "        vertical-align: top;\n",
       "    }\n",
       "\n",
       "    .dataframe thead th {\n",
       "        text-align: right;\n",
       "    }\n",
       "</style>\n",
       "<table border=\"1\" class=\"dataframe\">\n",
       "  <thead>\n",
       "    <tr style=\"text-align: right;\">\n",
       "      <th></th>\n",
       "      <th>children</th>\n",
       "      <th>days_employed</th>\n",
       "      <th>dob_years</th>\n",
       "      <th>education_id</th>\n",
       "      <th>family_status_id</th>\n",
       "      <th>gender</th>\n",
       "      <th>income_type</th>\n",
       "      <th>debt</th>\n",
       "      <th>total_income</th>\n",
       "      <th>purpose</th>\n",
       "      <th>purpose_category</th>\n",
       "      <th>total_income_category</th>\n",
       "    </tr>\n",
       "  </thead>\n",
       "  <tbody>\n",
       "    <tr>\n",
       "      <th>0</th>\n",
       "      <td>1</td>\n",
       "      <td>8437</td>\n",
       "      <td>42</td>\n",
       "      <td>0</td>\n",
       "      <td>0</td>\n",
       "      <td>F</td>\n",
       "      <td>сотрудник</td>\n",
       "      <td>0</td>\n",
       "      <td>253875</td>\n",
       "      <td>покупка жилья</td>\n",
       "      <td>операции с недвижимостью</td>\n",
       "      <td>B</td>\n",
       "    </tr>\n",
       "    <tr>\n",
       "      <th>1</th>\n",
       "      <td>1</td>\n",
       "      <td>4024</td>\n",
       "      <td>36</td>\n",
       "      <td>1</td>\n",
       "      <td>0</td>\n",
       "      <td>F</td>\n",
       "      <td>сотрудник</td>\n",
       "      <td>0</td>\n",
       "      <td>112080</td>\n",
       "      <td>приобретение автомобиля</td>\n",
       "      <td>операции с автомобилем</td>\n",
       "      <td>C</td>\n",
       "    </tr>\n",
       "    <tr>\n",
       "      <th>2</th>\n",
       "      <td>0</td>\n",
       "      <td>5623</td>\n",
       "      <td>33</td>\n",
       "      <td>1</td>\n",
       "      <td>0</td>\n",
       "      <td>M</td>\n",
       "      <td>сотрудник</td>\n",
       "      <td>0</td>\n",
       "      <td>145885</td>\n",
       "      <td>покупка жилья</td>\n",
       "      <td>операции с недвижимостью</td>\n",
       "      <td>C</td>\n",
       "    </tr>\n",
       "    <tr>\n",
       "      <th>3</th>\n",
       "      <td>3</td>\n",
       "      <td>4124</td>\n",
       "      <td>32</td>\n",
       "      <td>1</td>\n",
       "      <td>0</td>\n",
       "      <td>M</td>\n",
       "      <td>сотрудник</td>\n",
       "      <td>0</td>\n",
       "      <td>267628</td>\n",
       "      <td>дополнительное образование</td>\n",
       "      <td>получение образования</td>\n",
       "      <td>B</td>\n",
       "    </tr>\n",
       "    <tr>\n",
       "      <th>4</th>\n",
       "      <td>0</td>\n",
       "      <td>340266</td>\n",
       "      <td>53</td>\n",
       "      <td>1</td>\n",
       "      <td>1</td>\n",
       "      <td>F</td>\n",
       "      <td>пенсионер</td>\n",
       "      <td>0</td>\n",
       "      <td>158616</td>\n",
       "      <td>сыграть свадьбу</td>\n",
       "      <td>проведение свадьбы</td>\n",
       "      <td>C</td>\n",
       "    </tr>\n",
       "  </tbody>\n",
       "</table>\n",
       "</div>"
      ],
      "text/plain": [
       "   children  days_employed  dob_years  education_id  family_status_id gender  \\\n",
       "0         1           8437         42             0                 0      F   \n",
       "1         1           4024         36             1                 0      F   \n",
       "2         0           5623         33             1                 0      M   \n",
       "3         3           4124         32             1                 0      M   \n",
       "4         0         340266         53             1                 1      F   \n",
       "\n",
       "  income_type  debt  total_income                     purpose  \\\n",
       "0   сотрудник     0        253875               покупка жилья   \n",
       "1   сотрудник     0        112080     приобретение автомобиля   \n",
       "2   сотрудник     0        145885               покупка жилья   \n",
       "3   сотрудник     0        267628  дополнительное образование   \n",
       "4   пенсионер     0        158616             сыграть свадьбу   \n",
       "\n",
       "           purpose_category total_income_category  \n",
       "0  операции с недвижимостью                     B  \n",
       "1    операции с автомобилем                     C  \n",
       "2  операции с недвижимостью                     C  \n",
       "3     получение образования                     B  \n",
       "4        проведение свадьбы                     C  "
      ]
     },
     "execution_count": 51,
     "metadata": {},
     "output_type": "execute_result"
    }
   ],
   "source": [
    "data.head(5)"
   ]
  },
  {
   "cell_type": "markdown",
   "id": "d0ce9529",
   "metadata": {},
   "source": [
    "Сгруппируем данные чтобы посмотреть на какие цели берут кредит заемщики."
   ]
  },
  {
   "cell_type": "code",
   "execution_count": 52,
   "id": "58d92a5b",
   "metadata": {},
   "outputs": [
    {
     "data": {
      "text/plain": [
       "purpose_category\n",
       "операции с недвижимостью    10811\n",
       "операции с автомобилем       4306\n",
       "получение образования        4013\n",
       "проведение свадьбы           2324\n",
       "Name: purpose_category, dtype: int64"
      ]
     },
     "execution_count": 52,
     "metadata": {},
     "output_type": "execute_result"
    }
   ],
   "source": [
    "data.groupby(by = 'purpose_category')['purpose_category'].count().sort_values(ascending = False)"
   ]
  },
  {
   "cell_type": "markdown",
   "id": "3383a6f8",
   "metadata": {},
   "source": [
    "Как видим большую часть кредитов заемщики берут на операции с недвижимостью."
   ]
  },
  {
   "cell_type": "markdown",
   "id": "ed6c8250",
   "metadata": {},
   "source": [
    "# Анализ полученных данных"
   ]
  },
  {
   "cell_type": "markdown",
   "id": "275aa45b",
   "metadata": {},
   "source": [
    "Цель данного проекта узнать влияет ли семейное положение и количество детей клиента на факт погашения кредита в срок. Кредит выдается на 4 основные цели, которые мы сгруппировали - операции с недвижимостью, с автомобилем,\n",
    "получение образования и проведение свадьбы. Выделим эти категории в отдельные датасеты и в каждой категории узнаем распределение должников по семейному положению и количеству детей"
   ]
  },
  {
   "cell_type": "code",
   "execution_count": 53,
   "id": "41205b3c",
   "metadata": {},
   "outputs": [],
   "source": [
    "data_estate = data[data['purpose_category'] == 'операции с недвижимостью']     # данные с операциями по недвижимости\n",
    "data_avto = data[data['purpose_category'] == 'операции с автомобилем']         # данные с операциями по автомобилям\n",
    "data_edu = data[data['purpose_category'] == 'получение образования']           # данные по образованию\n",
    "data_wedd = data[data['purpose_category'] == 'проведение свадьбы']             # данные на проведение свадеб"
   ]
  },
  {
   "cell_type": "markdown",
   "id": "df64b7f6",
   "metadata": {},
   "source": [
    "Сгруппируем датасет по НЕДВИЖИМОСТИ на данные по количеству детей и семейному положению, используя функцию pivot_table и аргументы функции подсчета количества значений, суммы и среднего."
   ]
  },
  {
   "cell_type": "code",
   "execution_count": 54,
   "id": "8ef0cfb1",
   "metadata": {},
   "outputs": [],
   "source": [
    "estate_debt = pd.pivot_table(data_estate,index = ['children', 'family_status_id'], values = 'debt', aggfunc = ['sum', len, 'mean'])"
   ]
  },
  {
   "cell_type": "markdown",
   "id": "69ddee4f",
   "metadata": {},
   "source": [
    "Переименуем столбцы таблицы для наглядности и объединим со словарем семейных отношений для удобства анализа, а так же отсортируем таблицу по проценту должников"
   ]
  },
  {
   "cell_type": "code",
   "execution_count": 55,
   "id": "4bf2f581",
   "metadata": {},
   "outputs": [
    {
     "data": {
      "text/html": [
       "<div>\n",
       "<style scoped>\n",
       "    .dataframe tbody tr th:only-of-type {\n",
       "        vertical-align: middle;\n",
       "    }\n",
       "\n",
       "    .dataframe tbody tr th {\n",
       "        vertical-align: top;\n",
       "    }\n",
       "\n",
       "    .dataframe thead th {\n",
       "        text-align: right;\n",
       "    }\n",
       "</style>\n",
       "<table border=\"1\" class=\"dataframe\">\n",
       "  <thead>\n",
       "    <tr style=\"text-align: right;\">\n",
       "      <th></th>\n",
       "      <th></th>\n",
       "      <th>Количество должников</th>\n",
       "      <th>Общее количество клиентов</th>\n",
       "      <th>Процент должников</th>\n",
       "      <th>family_status</th>\n",
       "    </tr>\n",
       "    <tr>\n",
       "      <th>children</th>\n",
       "      <th>family_status_id</th>\n",
       "      <th></th>\n",
       "      <th></th>\n",
       "      <th></th>\n",
       "      <th></th>\n",
       "    </tr>\n",
       "  </thead>\n",
       "  <tbody>\n",
       "    <tr>\n",
       "      <th>4</th>\n",
       "      <th>4</th>\n",
       "      <td>1</td>\n",
       "      <td>1</td>\n",
       "      <td>1.000000</td>\n",
       "      <td>Не женат / не замужем</td>\n",
       "    </tr>\n",
       "    <tr>\n",
       "      <th>3</th>\n",
       "      <th>4</th>\n",
       "      <td>1</td>\n",
       "      <td>2</td>\n",
       "      <td>0.500000</td>\n",
       "      <td>Не женат / не замужем</td>\n",
       "    </tr>\n",
       "    <tr>\n",
       "      <th>4</th>\n",
       "      <th>0</th>\n",
       "      <td>2</td>\n",
       "      <td>15</td>\n",
       "      <td>0.133333</td>\n",
       "      <td>женат / замужем</td>\n",
       "    </tr>\n",
       "    <tr>\n",
       "      <th rowspan=\"2\" valign=\"top\">2</th>\n",
       "      <th>1</th>\n",
       "      <td>8</td>\n",
       "      <td>62</td>\n",
       "      <td>0.129032</td>\n",
       "      <td>гражданский брак</td>\n",
       "    </tr>\n",
       "    <tr>\n",
       "      <th>2</th>\n",
       "      <td>2</td>\n",
       "      <td>16</td>\n",
       "      <td>0.125000</td>\n",
       "      <td>вдовец / вдова</td>\n",
       "    </tr>\n",
       "    <tr>\n",
       "      <th rowspan=\"2\" valign=\"top\">1</th>\n",
       "      <th>1</th>\n",
       "      <td>32</td>\n",
       "      <td>261</td>\n",
       "      <td>0.122605</td>\n",
       "      <td>гражданский брак</td>\n",
       "    </tr>\n",
       "    <tr>\n",
       "      <th>4</th>\n",
       "      <td>29</td>\n",
       "      <td>258</td>\n",
       "      <td>0.112403</td>\n",
       "      <td>Не женат / не замужем</td>\n",
       "    </tr>\n",
       "    <tr>\n",
       "      <th>3</th>\n",
       "      <th>3</th>\n",
       "      <td>1</td>\n",
       "      <td>10</td>\n",
       "      <td>0.100000</td>\n",
       "      <td>в разводе</td>\n",
       "    </tr>\n",
       "    <tr>\n",
       "      <th rowspan=\"3\" valign=\"top\">2</th>\n",
       "      <th>4</th>\n",
       "      <td>4</td>\n",
       "      <td>48</td>\n",
       "      <td>0.083333</td>\n",
       "      <td>Не женат / не замужем</td>\n",
       "    </tr>\n",
       "    <tr>\n",
       "      <th>0</th>\n",
       "      <td>72</td>\n",
       "      <td>895</td>\n",
       "      <td>0.080447</td>\n",
       "      <td>женат / замужем</td>\n",
       "    </tr>\n",
       "    <tr>\n",
       "      <th>3</th>\n",
       "      <td>4</td>\n",
       "      <td>50</td>\n",
       "      <td>0.080000</td>\n",
       "      <td>в разводе</td>\n",
       "    </tr>\n",
       "    <tr>\n",
       "      <th>0</th>\n",
       "      <th>1</th>\n",
       "      <td>51</td>\n",
       "      <td>649</td>\n",
       "      <td>0.078582</td>\n",
       "      <td>гражданский брак</td>\n",
       "    </tr>\n",
       "    <tr>\n",
       "      <th>3</th>\n",
       "      <th>0</th>\n",
       "      <td>11</td>\n",
       "      <td>141</td>\n",
       "      <td>0.078014</td>\n",
       "      <td>женат / замужем</td>\n",
       "    </tr>\n",
       "    <tr>\n",
       "      <th>1</th>\n",
       "      <th>2</th>\n",
       "      <td>4</td>\n",
       "      <td>52</td>\n",
       "      <td>0.076923</td>\n",
       "      <td>вдовец / вдова</td>\n",
       "    </tr>\n",
       "    <tr>\n",
       "      <th>0</th>\n",
       "      <th>4</th>\n",
       "      <td>95</td>\n",
       "      <td>1287</td>\n",
       "      <td>0.073815</td>\n",
       "      <td>Не женат / не замужем</td>\n",
       "    </tr>\n",
       "    <tr>\n",
       "      <th rowspan=\"2\" valign=\"top\">1</th>\n",
       "      <th>0</th>\n",
       "      <td>122</td>\n",
       "      <td>1715</td>\n",
       "      <td>0.071137</td>\n",
       "      <td>женат / замужем</td>\n",
       "    </tr>\n",
       "    <tr>\n",
       "      <th>3</th>\n",
       "      <td>13</td>\n",
       "      <td>185</td>\n",
       "      <td>0.070270</td>\n",
       "      <td>в разводе</td>\n",
       "    </tr>\n",
       "    <tr>\n",
       "      <th rowspan=\"3\" valign=\"top\">0</th>\n",
       "      <th>3</th>\n",
       "      <td>29</td>\n",
       "      <td>431</td>\n",
       "      <td>0.067285</td>\n",
       "      <td>в разводе</td>\n",
       "    </tr>\n",
       "    <tr>\n",
       "      <th>0</th>\n",
       "      <td>279</td>\n",
       "      <td>4237</td>\n",
       "      <td>0.065848</td>\n",
       "      <td>женат / замужем</td>\n",
       "    </tr>\n",
       "    <tr>\n",
       "      <th>2</th>\n",
       "      <td>22</td>\n",
       "      <td>470</td>\n",
       "      <td>0.046809</td>\n",
       "      <td>вдовец / вдова</td>\n",
       "    </tr>\n",
       "    <tr>\n",
       "      <th rowspan=\"2\" valign=\"top\">3</th>\n",
       "      <th>2</th>\n",
       "      <td>0</td>\n",
       "      <td>3</td>\n",
       "      <td>0.000000</td>\n",
       "      <td>вдовец / вдова</td>\n",
       "    </tr>\n",
       "    <tr>\n",
       "      <th>1</th>\n",
       "      <td>0</td>\n",
       "      <td>13</td>\n",
       "      <td>0.000000</td>\n",
       "      <td>гражданский брак</td>\n",
       "    </tr>\n",
       "    <tr>\n",
       "      <th rowspan=\"2\" valign=\"top\">4</th>\n",
       "      <th>1</th>\n",
       "      <td>0</td>\n",
       "      <td>4</td>\n",
       "      <td>0.000000</td>\n",
       "      <td>гражданский брак</td>\n",
       "    </tr>\n",
       "    <tr>\n",
       "      <th>2</th>\n",
       "      <td>0</td>\n",
       "      <td>1</td>\n",
       "      <td>0.000000</td>\n",
       "      <td>вдовец / вдова</td>\n",
       "    </tr>\n",
       "    <tr>\n",
       "      <th>5</th>\n",
       "      <th>0</th>\n",
       "      <td>0</td>\n",
       "      <td>5</td>\n",
       "      <td>0.000000</td>\n",
       "      <td>женат / замужем</td>\n",
       "    </tr>\n",
       "  </tbody>\n",
       "</table>\n",
       "</div>"
      ],
      "text/plain": [
       "                           Количество должников  Общее количество клиентов  \\\n",
       "children family_status_id                                                    \n",
       "4        4                                    1                          1   \n",
       "3        4                                    1                          2   \n",
       "4        0                                    2                         15   \n",
       "2        1                                    8                         62   \n",
       "         2                                    2                         16   \n",
       "1        1                                   32                        261   \n",
       "         4                                   29                        258   \n",
       "3        3                                    1                         10   \n",
       "2        4                                    4                         48   \n",
       "         0                                   72                        895   \n",
       "         3                                    4                         50   \n",
       "0        1                                   51                        649   \n",
       "3        0                                   11                        141   \n",
       "1        2                                    4                         52   \n",
       "0        4                                   95                       1287   \n",
       "1        0                                  122                       1715   \n",
       "         3                                   13                        185   \n",
       "0        3                                   29                        431   \n",
       "         0                                  279                       4237   \n",
       "         2                                   22                        470   \n",
       "3        2                                    0                          3   \n",
       "         1                                    0                         13   \n",
       "4        1                                    0                          4   \n",
       "         2                                    0                          1   \n",
       "5        0                                    0                          5   \n",
       "\n",
       "                           Процент должников          family_status  \n",
       "children family_status_id                                            \n",
       "4        4                          1.000000  Не женат / не замужем  \n",
       "3        4                          0.500000  Не женат / не замужем  \n",
       "4        0                          0.133333        женат / замужем  \n",
       "2        1                          0.129032       гражданский брак  \n",
       "         2                          0.125000         вдовец / вдова  \n",
       "1        1                          0.122605       гражданский брак  \n",
       "         4                          0.112403  Не женат / не замужем  \n",
       "3        3                          0.100000              в разводе  \n",
       "2        4                          0.083333  Не женат / не замужем  \n",
       "         0                          0.080447        женат / замужем  \n",
       "         3                          0.080000              в разводе  \n",
       "0        1                          0.078582       гражданский брак  \n",
       "3        0                          0.078014        женат / замужем  \n",
       "1        2                          0.076923         вдовец / вдова  \n",
       "0        4                          0.073815  Не женат / не замужем  \n",
       "1        0                          0.071137        женат / замужем  \n",
       "         3                          0.070270              в разводе  \n",
       "0        3                          0.067285              в разводе  \n",
       "         0                          0.065848        женат / замужем  \n",
       "         2                          0.046809         вдовец / вдова  \n",
       "3        2                          0.000000         вдовец / вдова  \n",
       "         1                          0.000000       гражданский брак  \n",
       "4        1                          0.000000       гражданский брак  \n",
       "         2                          0.000000         вдовец / вдова  \n",
       "5        0                          0.000000        женат / замужем  "
      ]
     },
     "execution_count": 55,
     "metadata": {},
     "output_type": "execute_result"
    }
   ],
   "source": [
    "estate_debt.columns= ['Количество должников','Общее количество клиентов','Процент должников']\n",
    "estate_debt.join(family_dict.set_index('family_status_id')).sort_values(by='Процент должников', ascending = False)"
   ]
  },
  {
   "cell_type": "markdown",
   "id": "18b9e68a",
   "metadata": {},
   "source": [
    "Как видно из анализа - если у клиента 4 ребенка, он не женат и берет кредит на недвижимость - то с вероятностью 100 процентов он задержит выплаты. Самое большое количество должников приходится на группу женатых/замужних клиентов, у которых нет детей - но процент должников в этой группе равен 6,5 процентам. В то же время клиенты - вдовцы или находящиеся в гражданском браке - с тремя, четырьмя или пятью детьми вообще не имеют долгов по платежам."
   ]
  },
  {
   "cell_type": "markdown",
   "id": "40de4123",
   "metadata": {},
   "source": [
    "Повторим те же самые операции по выборке и группировке данных по категории операций с АВТОМОБИЛЯМИ, используя pivot_table, так же переименуем столбцы и отсортируем таблицу по проценту должников"
   ]
  },
  {
   "cell_type": "code",
   "execution_count": 56,
   "id": "af1aa97c",
   "metadata": {},
   "outputs": [
    {
     "data": {
      "text/html": [
       "<div>\n",
       "<style scoped>\n",
       "    .dataframe tbody tr th:only-of-type {\n",
       "        vertical-align: middle;\n",
       "    }\n",
       "\n",
       "    .dataframe tbody tr th {\n",
       "        vertical-align: top;\n",
       "    }\n",
       "\n",
       "    .dataframe thead th {\n",
       "        text-align: right;\n",
       "    }\n",
       "</style>\n",
       "<table border=\"1\" class=\"dataframe\">\n",
       "  <thead>\n",
       "    <tr style=\"text-align: right;\">\n",
       "      <th></th>\n",
       "      <th></th>\n",
       "      <th>Количество должников</th>\n",
       "      <th>Общее количество клиентов</th>\n",
       "      <th>Процент должников</th>\n",
       "      <th>family_status</th>\n",
       "    </tr>\n",
       "    <tr>\n",
       "      <th>children</th>\n",
       "      <th>family_status_id</th>\n",
       "      <th></th>\n",
       "      <th></th>\n",
       "      <th></th>\n",
       "      <th></th>\n",
       "    </tr>\n",
       "  </thead>\n",
       "  <tbody>\n",
       "    <tr>\n",
       "      <th>3</th>\n",
       "      <th>1</th>\n",
       "      <td>2</td>\n",
       "      <td>5</td>\n",
       "      <td>0.400000</td>\n",
       "      <td>гражданский брак</td>\n",
       "    </tr>\n",
       "    <tr>\n",
       "      <th rowspan=\"2\" valign=\"top\">2</th>\n",
       "      <th>4</th>\n",
       "      <td>5</td>\n",
       "      <td>21</td>\n",
       "      <td>0.238095</td>\n",
       "      <td>Не женат / не замужем</td>\n",
       "    </tr>\n",
       "    <tr>\n",
       "      <th>2</th>\n",
       "      <td>1</td>\n",
       "      <td>6</td>\n",
       "      <td>0.166667</td>\n",
       "      <td>вдовец / вдова</td>\n",
       "    </tr>\n",
       "    <tr>\n",
       "      <th>1</th>\n",
       "      <th>1</th>\n",
       "      <td>17</td>\n",
       "      <td>108</td>\n",
       "      <td>0.157407</td>\n",
       "      <td>гражданский брак</td>\n",
       "    </tr>\n",
       "    <tr>\n",
       "      <th>2</th>\n",
       "      <th>3</th>\n",
       "      <td>2</td>\n",
       "      <td>14</td>\n",
       "      <td>0.142857</td>\n",
       "      <td>в разводе</td>\n",
       "    </tr>\n",
       "    <tr>\n",
       "      <th>1</th>\n",
       "      <th>4</th>\n",
       "      <td>13</td>\n",
       "      <td>94</td>\n",
       "      <td>0.138298</td>\n",
       "      <td>Не женат / не замужем</td>\n",
       "    </tr>\n",
       "    <tr>\n",
       "      <th>4</th>\n",
       "      <th>0</th>\n",
       "      <td>1</td>\n",
       "      <td>8</td>\n",
       "      <td>0.125000</td>\n",
       "      <td>женат / замужем</td>\n",
       "    </tr>\n",
       "    <tr>\n",
       "      <th>0</th>\n",
       "      <th>4</th>\n",
       "      <td>64</td>\n",
       "      <td>518</td>\n",
       "      <td>0.123552</td>\n",
       "      <td>Не женат / не замужем</td>\n",
       "    </tr>\n",
       "    <tr>\n",
       "      <th rowspan=\"2\" valign=\"top\">2</th>\n",
       "      <th>0</th>\n",
       "      <td>38</td>\n",
       "      <td>337</td>\n",
       "      <td>0.112760</td>\n",
       "      <td>женат / замужем</td>\n",
       "    </tr>\n",
       "    <tr>\n",
       "      <th>1</th>\n",
       "      <td>4</td>\n",
       "      <td>37</td>\n",
       "      <td>0.108108</td>\n",
       "      <td>гражданский брак</td>\n",
       "    </tr>\n",
       "    <tr>\n",
       "      <th>0</th>\n",
       "      <th>1</th>\n",
       "      <td>28</td>\n",
       "      <td>282</td>\n",
       "      <td>0.099291</td>\n",
       "      <td>гражданский брак</td>\n",
       "    </tr>\n",
       "    <tr>\n",
       "      <th>1</th>\n",
       "      <th>0</th>\n",
       "      <td>68</td>\n",
       "      <td>691</td>\n",
       "      <td>0.098408</td>\n",
       "      <td>женат / замужем</td>\n",
       "    </tr>\n",
       "    <tr>\n",
       "      <th>0</th>\n",
       "      <th>2</th>\n",
       "      <td>19</td>\n",
       "      <td>201</td>\n",
       "      <td>0.094527</td>\n",
       "      <td>вдовец / вдова</td>\n",
       "    </tr>\n",
       "    <tr>\n",
       "      <th>1</th>\n",
       "      <th>3</th>\n",
       "      <td>6</td>\n",
       "      <td>70</td>\n",
       "      <td>0.085714</td>\n",
       "      <td>в разводе</td>\n",
       "    </tr>\n",
       "    <tr>\n",
       "      <th rowspan=\"2\" valign=\"top\">0</th>\n",
       "      <th>0</th>\n",
       "      <td>119</td>\n",
       "      <td>1649</td>\n",
       "      <td>0.072165</td>\n",
       "      <td>женат / замужем</td>\n",
       "    </tr>\n",
       "    <tr>\n",
       "      <th>3</th>\n",
       "      <td>13</td>\n",
       "      <td>195</td>\n",
       "      <td>0.066667</td>\n",
       "      <td>в разводе</td>\n",
       "    </tr>\n",
       "    <tr>\n",
       "      <th>3</th>\n",
       "      <th>0</th>\n",
       "      <td>3</td>\n",
       "      <td>50</td>\n",
       "      <td>0.060000</td>\n",
       "      <td>женат / замужем</td>\n",
       "    </tr>\n",
       "    <tr>\n",
       "      <th>1</th>\n",
       "      <th>2</th>\n",
       "      <td>0</td>\n",
       "      <td>11</td>\n",
       "      <td>0.000000</td>\n",
       "      <td>вдовец / вдова</td>\n",
       "    </tr>\n",
       "    <tr>\n",
       "      <th rowspan=\"2\" valign=\"top\">3</th>\n",
       "      <th>3</th>\n",
       "      <td>0</td>\n",
       "      <td>1</td>\n",
       "      <td>0.000000</td>\n",
       "      <td>в разводе</td>\n",
       "    </tr>\n",
       "    <tr>\n",
       "      <th>4</th>\n",
       "      <td>0</td>\n",
       "      <td>4</td>\n",
       "      <td>0.000000</td>\n",
       "      <td>Не женат / не замужем</td>\n",
       "    </tr>\n",
       "    <tr>\n",
       "      <th rowspan=\"2\" valign=\"top\">4</th>\n",
       "      <th>1</th>\n",
       "      <td>0</td>\n",
       "      <td>1</td>\n",
       "      <td>0.000000</td>\n",
       "      <td>гражданский брак</td>\n",
       "    </tr>\n",
       "    <tr>\n",
       "      <th>3</th>\n",
       "      <td>0</td>\n",
       "      <td>1</td>\n",
       "      <td>0.000000</td>\n",
       "      <td>в разводе</td>\n",
       "    </tr>\n",
       "    <tr>\n",
       "      <th rowspan=\"2\" valign=\"top\">5</th>\n",
       "      <th>0</th>\n",
       "      <td>0</td>\n",
       "      <td>1</td>\n",
       "      <td>0.000000</td>\n",
       "      <td>женат / замужем</td>\n",
       "    </tr>\n",
       "    <tr>\n",
       "      <th>1</th>\n",
       "      <td>0</td>\n",
       "      <td>1</td>\n",
       "      <td>0.000000</td>\n",
       "      <td>гражданский брак</td>\n",
       "    </tr>\n",
       "  </tbody>\n",
       "</table>\n",
       "</div>"
      ],
      "text/plain": [
       "                           Количество должников  Общее количество клиентов  \\\n",
       "children family_status_id                                                    \n",
       "3        1                                    2                          5   \n",
       "2        4                                    5                         21   \n",
       "         2                                    1                          6   \n",
       "1        1                                   17                        108   \n",
       "2        3                                    2                         14   \n",
       "1        4                                   13                         94   \n",
       "4        0                                    1                          8   \n",
       "0        4                                   64                        518   \n",
       "2        0                                   38                        337   \n",
       "         1                                    4                         37   \n",
       "0        1                                   28                        282   \n",
       "1        0                                   68                        691   \n",
       "0        2                                   19                        201   \n",
       "1        3                                    6                         70   \n",
       "0        0                                  119                       1649   \n",
       "         3                                   13                        195   \n",
       "3        0                                    3                         50   \n",
       "1        2                                    0                         11   \n",
       "3        3                                    0                          1   \n",
       "         4                                    0                          4   \n",
       "4        1                                    0                          1   \n",
       "         3                                    0                          1   \n",
       "5        0                                    0                          1   \n",
       "         1                                    0                          1   \n",
       "\n",
       "                           Процент должников          family_status  \n",
       "children family_status_id                                            \n",
       "3        1                          0.400000       гражданский брак  \n",
       "2        4                          0.238095  Не женат / не замужем  \n",
       "         2                          0.166667         вдовец / вдова  \n",
       "1        1                          0.157407       гражданский брак  \n",
       "2        3                          0.142857              в разводе  \n",
       "1        4                          0.138298  Не женат / не замужем  \n",
       "4        0                          0.125000        женат / замужем  \n",
       "0        4                          0.123552  Не женат / не замужем  \n",
       "2        0                          0.112760        женат / замужем  \n",
       "         1                          0.108108       гражданский брак  \n",
       "0        1                          0.099291       гражданский брак  \n",
       "1        0                          0.098408        женат / замужем  \n",
       "0        2                          0.094527         вдовец / вдова  \n",
       "1        3                          0.085714              в разводе  \n",
       "0        0                          0.072165        женат / замужем  \n",
       "         3                          0.066667              в разводе  \n",
       "3        0                          0.060000        женат / замужем  \n",
       "1        2                          0.000000         вдовец / вдова  \n",
       "3        3                          0.000000              в разводе  \n",
       "         4                          0.000000  Не женат / не замужем  \n",
       "4        1                          0.000000       гражданский брак  \n",
       "         3                          0.000000              в разводе  \n",
       "5        0                          0.000000        женат / замужем  \n",
       "         1                          0.000000       гражданский брак  "
      ]
     },
     "execution_count": 56,
     "metadata": {},
     "output_type": "execute_result"
    }
   ],
   "source": [
    "auto_debt = pd.pivot_table(data_avto,index = ['children', 'family_status_id'], values = 'debt', aggfunc = ['sum', len, 'mean'])\n",
    "auto_debt.columns= ['Количество должников','Общее количество клиентов','Процент должников']\n",
    "auto_debt.join(family_dict.set_index('family_status_id')).sort_values(by='Процент должников', ascending = False)"
   ]
  },
  {
   "cell_type": "markdown",
   "id": "5747b7fc",
   "metadata": {},
   "source": [
    "Как видно из анализа - если у клиента 3 ребенка, он не женат и цели кредита связаня с автомобилем - то с вероятностью 40 процентов он задержит выплаты. Самое большое количество должников приходится на группу женатых/замужних клиентов, у которых нет детей - но процент должников в этой группе равен 7,2 процентам. В то же время клиенты - вдовцы с одним ребенком ни разу не имели просрочки по кредитам по операциям с автомобилями.\n"
   ]
  },
  {
   "cell_type": "markdown",
   "id": "cbf8277a",
   "metadata": {},
   "source": [
    "Повторим те же самые операции по выборке и группировке данных по категории операций с ОБРАЗОВАНИЕМ, используя pivot_table, так же переименуем столбцы и отсортируем таблицу по проценту должников"
   ]
  },
  {
   "cell_type": "code",
   "execution_count": 57,
   "id": "86f7ef8f",
   "metadata": {},
   "outputs": [
    {
     "data": {
      "text/html": [
       "<div>\n",
       "<style scoped>\n",
       "    .dataframe tbody tr th:only-of-type {\n",
       "        vertical-align: middle;\n",
       "    }\n",
       "\n",
       "    .dataframe tbody tr th {\n",
       "        vertical-align: top;\n",
       "    }\n",
       "\n",
       "    .dataframe thead th {\n",
       "        text-align: right;\n",
       "    }\n",
       "</style>\n",
       "<table border=\"1\" class=\"dataframe\">\n",
       "  <thead>\n",
       "    <tr style=\"text-align: right;\">\n",
       "      <th></th>\n",
       "      <th></th>\n",
       "      <th>Количество должников</th>\n",
       "      <th>Общее количество клиентов</th>\n",
       "      <th>Процент должников</th>\n",
       "      <th>family_status</th>\n",
       "    </tr>\n",
       "    <tr>\n",
       "      <th>children</th>\n",
       "      <th>family_status_id</th>\n",
       "      <th></th>\n",
       "      <th></th>\n",
       "      <th></th>\n",
       "      <th></th>\n",
       "    </tr>\n",
       "  </thead>\n",
       "  <tbody>\n",
       "    <tr>\n",
       "      <th>2</th>\n",
       "      <th>1</th>\n",
       "      <td>6</td>\n",
       "      <td>32</td>\n",
       "      <td>0.187500</td>\n",
       "      <td>гражданский брак</td>\n",
       "    </tr>\n",
       "    <tr>\n",
       "      <th>1</th>\n",
       "      <th>1</th>\n",
       "      <td>18</td>\n",
       "      <td>97</td>\n",
       "      <td>0.185567</td>\n",
       "      <td>гражданский брак</td>\n",
       "    </tr>\n",
       "    <tr>\n",
       "      <th>3</th>\n",
       "      <th>1</th>\n",
       "      <td>1</td>\n",
       "      <td>6</td>\n",
       "      <td>0.166667</td>\n",
       "      <td>гражданский брак</td>\n",
       "    </tr>\n",
       "    <tr>\n",
       "      <th>1</th>\n",
       "      <th>2</th>\n",
       "      <td>3</td>\n",
       "      <td>18</td>\n",
       "      <td>0.166667</td>\n",
       "      <td>вдовец / вдова</td>\n",
       "    </tr>\n",
       "    <tr>\n",
       "      <th rowspan=\"2\" valign=\"top\">0</th>\n",
       "      <th>1</th>\n",
       "      <td>35</td>\n",
       "      <td>269</td>\n",
       "      <td>0.130112</td>\n",
       "      <td>гражданский брак</td>\n",
       "    </tr>\n",
       "    <tr>\n",
       "      <th>4</th>\n",
       "      <td>51</td>\n",
       "      <td>457</td>\n",
       "      <td>0.111597</td>\n",
       "      <td>Не женат / не замужем</td>\n",
       "    </tr>\n",
       "    <tr>\n",
       "      <th rowspan=\"2\" valign=\"top\">2</th>\n",
       "      <th>0</th>\n",
       "      <td>38</td>\n",
       "      <td>350</td>\n",
       "      <td>0.108571</td>\n",
       "      <td>женат / замужем</td>\n",
       "    </tr>\n",
       "    <tr>\n",
       "      <th>3</th>\n",
       "      <td>2</td>\n",
       "      <td>19</td>\n",
       "      <td>0.105263</td>\n",
       "      <td>в разводе</td>\n",
       "    </tr>\n",
       "    <tr>\n",
       "      <th rowspan=\"2\" valign=\"top\">1</th>\n",
       "      <th>4</th>\n",
       "      <td>10</td>\n",
       "      <td>102</td>\n",
       "      <td>0.098039</td>\n",
       "      <td>Не женат / не замужем</td>\n",
       "    </tr>\n",
       "    <tr>\n",
       "      <th>0</th>\n",
       "      <td>57</td>\n",
       "      <td>598</td>\n",
       "      <td>0.095318</td>\n",
       "      <td>женат / замужем</td>\n",
       "    </tr>\n",
       "    <tr>\n",
       "      <th rowspan=\"3\" valign=\"top\">0</th>\n",
       "      <th>3</th>\n",
       "      <td>13</td>\n",
       "      <td>158</td>\n",
       "      <td>0.082278</td>\n",
       "      <td>в разводе</td>\n",
       "    </tr>\n",
       "    <tr>\n",
       "      <th>0</th>\n",
       "      <td>118</td>\n",
       "      <td>1582</td>\n",
       "      <td>0.074589</td>\n",
       "      <td>женат / замужем</td>\n",
       "    </tr>\n",
       "    <tr>\n",
       "      <th>2</th>\n",
       "      <td>12</td>\n",
       "      <td>176</td>\n",
       "      <td>0.068182</td>\n",
       "      <td>вдовец / вдова</td>\n",
       "    </tr>\n",
       "    <tr>\n",
       "      <th>2</th>\n",
       "      <th>4</th>\n",
       "      <td>1</td>\n",
       "      <td>15</td>\n",
       "      <td>0.066667</td>\n",
       "      <td>Не женат / не замужем</td>\n",
       "    </tr>\n",
       "    <tr>\n",
       "      <th>3</th>\n",
       "      <th>0</th>\n",
       "      <td>3</td>\n",
       "      <td>58</td>\n",
       "      <td>0.051724</td>\n",
       "      <td>женат / замужем</td>\n",
       "    </tr>\n",
       "    <tr>\n",
       "      <th>1</th>\n",
       "      <th>3</th>\n",
       "      <td>2</td>\n",
       "      <td>61</td>\n",
       "      <td>0.032787</td>\n",
       "      <td>в разводе</td>\n",
       "    </tr>\n",
       "    <tr>\n",
       "      <th>2</th>\n",
       "      <th>2</th>\n",
       "      <td>0</td>\n",
       "      <td>2</td>\n",
       "      <td>0.000000</td>\n",
       "      <td>вдовец / вдова</td>\n",
       "    </tr>\n",
       "    <tr>\n",
       "      <th rowspan=\"2\" valign=\"top\">3</th>\n",
       "      <th>2</th>\n",
       "      <td>0</td>\n",
       "      <td>3</td>\n",
       "      <td>0.000000</td>\n",
       "      <td>вдовец / вдова</td>\n",
       "    </tr>\n",
       "    <tr>\n",
       "      <th>4</th>\n",
       "      <td>0</td>\n",
       "      <td>2</td>\n",
       "      <td>0.000000</td>\n",
       "      <td>Не женат / не замужем</td>\n",
       "    </tr>\n",
       "    <tr>\n",
       "      <th rowspan=\"2\" valign=\"top\">4</th>\n",
       "      <th>0</th>\n",
       "      <td>0</td>\n",
       "      <td>6</td>\n",
       "      <td>0.000000</td>\n",
       "      <td>женат / замужем</td>\n",
       "    </tr>\n",
       "    <tr>\n",
       "      <th>4</th>\n",
       "      <td>0</td>\n",
       "      <td>1</td>\n",
       "      <td>0.000000</td>\n",
       "      <td>Не женат / не замужем</td>\n",
       "    </tr>\n",
       "    <tr>\n",
       "      <th>5</th>\n",
       "      <th>0</th>\n",
       "      <td>0</td>\n",
       "      <td>1</td>\n",
       "      <td>0.000000</td>\n",
       "      <td>женат / замужем</td>\n",
       "    </tr>\n",
       "  </tbody>\n",
       "</table>\n",
       "</div>"
      ],
      "text/plain": [
       "                           Количество должников  Общее количество клиентов  \\\n",
       "children family_status_id                                                    \n",
       "2        1                                    6                         32   \n",
       "1        1                                   18                         97   \n",
       "3        1                                    1                          6   \n",
       "1        2                                    3                         18   \n",
       "0        1                                   35                        269   \n",
       "         4                                   51                        457   \n",
       "2        0                                   38                        350   \n",
       "         3                                    2                         19   \n",
       "1        4                                   10                        102   \n",
       "         0                                   57                        598   \n",
       "0        3                                   13                        158   \n",
       "         0                                  118                       1582   \n",
       "         2                                   12                        176   \n",
       "2        4                                    1                         15   \n",
       "3        0                                    3                         58   \n",
       "1        3                                    2                         61   \n",
       "2        2                                    0                          2   \n",
       "3        2                                    0                          3   \n",
       "         4                                    0                          2   \n",
       "4        0                                    0                          6   \n",
       "         4                                    0                          1   \n",
       "5        0                                    0                          1   \n",
       "\n",
       "                           Процент должников          family_status  \n",
       "children family_status_id                                            \n",
       "2        1                          0.187500       гражданский брак  \n",
       "1        1                          0.185567       гражданский брак  \n",
       "3        1                          0.166667       гражданский брак  \n",
       "1        2                          0.166667         вдовец / вдова  \n",
       "0        1                          0.130112       гражданский брак  \n",
       "         4                          0.111597  Не женат / не замужем  \n",
       "2        0                          0.108571        женат / замужем  \n",
       "         3                          0.105263              в разводе  \n",
       "1        4                          0.098039  Не женат / не замужем  \n",
       "         0                          0.095318        женат / замужем  \n",
       "0        3                          0.082278              в разводе  \n",
       "         0                          0.074589        женат / замужем  \n",
       "         2                          0.068182         вдовец / вдова  \n",
       "2        4                          0.066667  Не женат / не замужем  \n",
       "3        0                          0.051724        женат / замужем  \n",
       "1        3                          0.032787              в разводе  \n",
       "2        2                          0.000000         вдовец / вдова  \n",
       "3        2                          0.000000         вдовец / вдова  \n",
       "         4                          0.000000  Не женат / не замужем  \n",
       "4        0                          0.000000        женат / замужем  \n",
       "         4                          0.000000  Не женат / не замужем  \n",
       "5        0                          0.000000        женат / замужем  "
      ]
     },
     "execution_count": 57,
     "metadata": {},
     "output_type": "execute_result"
    }
   ],
   "source": [
    "edu_debt = pd.pivot_table(data_edu,index = ['children', 'family_status_id'], values = 'debt', aggfunc = ['sum', len, 'mean'])\n",
    "edu_debt.columns= ['Количество должников','Общее количество клиентов','Процент должников']\n",
    "edu_debt.join(family_dict.set_index('family_status_id')).sort_values(by='Процент должников', ascending = False)"
   ]
  },
  {
   "cell_type": "markdown",
   "id": "1627d46d",
   "metadata": {},
   "source": [
    "Как видно из анализа - самые большие задолженности имеют клиенты, находящиеся в гражданском браке с количеством детей от одного до трех - 18.75% - 16.66%. Самое большое количество должников приходится на группу женатых/замужних клиентов, у которых нет детей - но процент должников в этой группе равен 7,4 процентам. В то же время клиенты - вдовцы с двумя-тремя детьми (и остальные, согласно таблице) ни разу не имели просрочки по кредитам на образование."
   ]
  },
  {
   "cell_type": "markdown",
   "id": "53031d22",
   "metadata": {},
   "source": [
    "Повторим те же самые операции по выборке и группировке данных по категории операций связанных со СВАДЬБОЙ, используя pivot_table, так же переименуем столбцы и отсортируем таблицу по проценту должников"
   ]
  },
  {
   "cell_type": "code",
   "execution_count": 58,
   "id": "c47a0a32",
   "metadata": {},
   "outputs": [
    {
     "data": {
      "text/html": [
       "<div>\n",
       "<style scoped>\n",
       "    .dataframe tbody tr th:only-of-type {\n",
       "        vertical-align: middle;\n",
       "    }\n",
       "\n",
       "    .dataframe tbody tr th {\n",
       "        vertical-align: top;\n",
       "    }\n",
       "\n",
       "    .dataframe thead th {\n",
       "        text-align: right;\n",
       "    }\n",
       "</style>\n",
       "<table border=\"1\" class=\"dataframe\">\n",
       "  <thead>\n",
       "    <tr style=\"text-align: right;\">\n",
       "      <th></th>\n",
       "      <th></th>\n",
       "      <th>Количество должников</th>\n",
       "      <th>Общее количество клиентов</th>\n",
       "      <th>Процент должников</th>\n",
       "      <th>family_status</th>\n",
       "    </tr>\n",
       "    <tr>\n",
       "      <th>children</th>\n",
       "      <th>family_status_id</th>\n",
       "      <th></th>\n",
       "      <th></th>\n",
       "      <th></th>\n",
       "      <th></th>\n",
       "    </tr>\n",
       "  </thead>\n",
       "  <tbody>\n",
       "    <tr>\n",
       "      <th>3</th>\n",
       "      <th>1</th>\n",
       "      <td>5</td>\n",
       "      <td>32</td>\n",
       "      <td>0.156250</td>\n",
       "      <td>гражданский брак</td>\n",
       "    </tr>\n",
       "    <tr>\n",
       "      <th>1</th>\n",
       "      <th>1</th>\n",
       "      <td>51</td>\n",
       "      <td>534</td>\n",
       "      <td>0.095506</td>\n",
       "      <td>гражданский брак</td>\n",
       "    </tr>\n",
       "    <tr>\n",
       "      <th>0</th>\n",
       "      <th>1</th>\n",
       "      <td>115</td>\n",
       "      <td>1530</td>\n",
       "      <td>0.075163</td>\n",
       "      <td>гражданский брак</td>\n",
       "    </tr>\n",
       "    <tr>\n",
       "      <th>2</th>\n",
       "      <th>1</th>\n",
       "      <td>15</td>\n",
       "      <td>224</td>\n",
       "      <td>0.066964</td>\n",
       "      <td>гражданский брак</td>\n",
       "    </tr>\n",
       "    <tr>\n",
       "      <th>4</th>\n",
       "      <th>1</th>\n",
       "      <td>0</td>\n",
       "      <td>3</td>\n",
       "      <td>0.000000</td>\n",
       "      <td>гражданский брак</td>\n",
       "    </tr>\n",
       "    <tr>\n",
       "      <th>5</th>\n",
       "      <th>1</th>\n",
       "      <td>0</td>\n",
       "      <td>1</td>\n",
       "      <td>0.000000</td>\n",
       "      <td>гражданский брак</td>\n",
       "    </tr>\n",
       "  </tbody>\n",
       "</table>\n",
       "</div>"
      ],
      "text/plain": [
       "                           Количество должников  Общее количество клиентов  \\\n",
       "children family_status_id                                                    \n",
       "3        1                                    5                         32   \n",
       "1        1                                   51                        534   \n",
       "0        1                                  115                       1530   \n",
       "2        1                                   15                        224   \n",
       "4        1                                    0                          3   \n",
       "5        1                                    0                          1   \n",
       "\n",
       "                           Процент должников     family_status  \n",
       "children family_status_id                                       \n",
       "3        1                          0.156250  гражданский брак  \n",
       "1        1                          0.095506  гражданский брак  \n",
       "0        1                          0.075163  гражданский брак  \n",
       "2        1                          0.066964  гражданский брак  \n",
       "4        1                          0.000000  гражданский брак  \n",
       "5        1                          0.000000  гражданский брак  "
      ]
     },
     "execution_count": 58,
     "metadata": {},
     "output_type": "execute_result"
    }
   ],
   "source": [
    "wedd_debt = pd.pivot_table(data_wedd,index = ['children', 'family_status_id'], values = 'debt', aggfunc = ['sum', len, 'mean'])\n",
    "wedd_debt.columns= ['Количество должников','Общее количество клиентов','Процент должников']\n",
    "wedd_debt.join(family_dict.set_index('family_status_id')).sort_values(by='Процент должников', ascending = False)"
   ]
  },
  {
   "cell_type": "markdown",
   "id": "d5eaa61b",
   "metadata": {},
   "source": [
    "Как видно из анализа - на свадьбу клиенты берут кредит только находящиеся в гражданском браке, самый большой процент задержек приходится на категорию клиентов с 3 детьми - 15.62%. В то же время клиенты в гражданском браке с четырьмя-пятью детьми вообще не имеют задолженностей. Клиенты без детей являются самой большой категорией должников - и равняются 7,5 % в категории клиентов, взявщих кредит на свадьбу."
   ]
  },
  {
   "cell_type": "markdown",
   "id": "332fafd3",
   "metadata": {},
   "source": [
    "#  Результаты исследования "
   ]
  },
  {
   "cell_type": "markdown",
   "id": "e5cf8dd0",
   "metadata": {},
   "source": [
    "Задачей данного проекта является узнать влияет ли семейное положение и количество детей клиента на факт погашения кредита в срок. \n",
    "\n",
    "В процессе иследования надежности заемщиков удалось обнаружить следующие данные:\n",
    "* 8 процентов заемщиков имеют просроченную задолженность по кредитам\n",
    "* основная категория должников приходится на женатых/замужних клиентов без детей, это 53%\n",
    "* в категории кредита - недвижимость - женатых должников без детей 6,5%\n",
    "* в категории кредита - автомобиль - женатых должников без детей 7,2%\n",
    "* в категории кредита - обучение - женатых должников без детей 7,4%\n",
    "* в категории кредита - свадьба - клиенты - только находящиеся в гражданском браке - должников без детей 7,5%\n"
   ]
  }
 ],
 "metadata": {
  "ExecuteTimeLog": [
   {
    "duration": 42,
    "start_time": "2022-04-19T12:42:15.351Z"
   },
   {
    "duration": 445,
    "start_time": "2022-04-19T12:42:28.319Z"
   },
   {
    "duration": 98,
    "start_time": "2022-04-19T12:42:28.767Z"
   },
   {
    "duration": 0,
    "start_time": "2022-04-19T12:42:28.870Z"
   },
   {
    "duration": 0,
    "start_time": "2022-04-19T12:42:28.871Z"
   },
   {
    "duration": 0,
    "start_time": "2022-04-19T12:42:28.872Z"
   },
   {
    "duration": 0,
    "start_time": "2022-04-19T12:42:28.874Z"
   },
   {
    "duration": 0,
    "start_time": "2022-04-19T12:42:28.875Z"
   },
   {
    "duration": 0,
    "start_time": "2022-04-19T12:42:28.876Z"
   },
   {
    "duration": 0,
    "start_time": "2022-04-19T12:42:28.877Z"
   },
   {
    "duration": 0,
    "start_time": "2022-04-19T12:42:28.878Z"
   },
   {
    "duration": 0,
    "start_time": "2022-04-19T12:42:28.879Z"
   },
   {
    "duration": 0,
    "start_time": "2022-04-19T12:42:28.903Z"
   },
   {
    "duration": 0,
    "start_time": "2022-04-19T12:42:28.904Z"
   },
   {
    "duration": 0,
    "start_time": "2022-04-19T12:42:28.906Z"
   },
   {
    "duration": 0,
    "start_time": "2022-04-19T12:42:28.907Z"
   },
   {
    "duration": 0,
    "start_time": "2022-04-19T12:42:28.909Z"
   },
   {
    "duration": 0,
    "start_time": "2022-04-19T12:42:28.911Z"
   },
   {
    "duration": 0,
    "start_time": "2022-04-19T12:42:28.912Z"
   },
   {
    "duration": 0,
    "start_time": "2022-04-19T12:42:28.913Z"
   },
   {
    "duration": 0,
    "start_time": "2022-04-19T12:42:28.914Z"
   },
   {
    "duration": 0,
    "start_time": "2022-04-19T12:42:28.914Z"
   },
   {
    "duration": 0,
    "start_time": "2022-04-19T12:42:28.916Z"
   },
   {
    "duration": 0,
    "start_time": "2022-04-19T12:42:28.917Z"
   },
   {
    "duration": 0,
    "start_time": "2022-04-19T12:42:28.918Z"
   },
   {
    "duration": 0,
    "start_time": "2022-04-19T12:42:28.919Z"
   },
   {
    "duration": 0,
    "start_time": "2022-04-19T12:42:28.921Z"
   },
   {
    "duration": 0,
    "start_time": "2022-04-19T12:42:28.922Z"
   },
   {
    "duration": 0,
    "start_time": "2022-04-19T12:42:28.924Z"
   },
   {
    "duration": 0,
    "start_time": "2022-04-19T12:42:28.925Z"
   },
   {
    "duration": 0,
    "start_time": "2022-04-19T12:42:28.927Z"
   },
   {
    "duration": 0,
    "start_time": "2022-04-19T12:42:28.928Z"
   },
   {
    "duration": 0,
    "start_time": "2022-04-19T12:42:28.929Z"
   },
   {
    "duration": 0,
    "start_time": "2022-04-19T12:42:28.930Z"
   },
   {
    "duration": 0,
    "start_time": "2022-04-19T12:42:28.932Z"
   },
   {
    "duration": 0,
    "start_time": "2022-04-19T12:42:28.933Z"
   },
   {
    "duration": 0,
    "start_time": "2022-04-19T12:42:28.934Z"
   },
   {
    "duration": 0,
    "start_time": "2022-04-19T12:42:28.935Z"
   },
   {
    "duration": 0,
    "start_time": "2022-04-19T12:42:28.936Z"
   },
   {
    "duration": 0,
    "start_time": "2022-04-19T12:42:28.937Z"
   },
   {
    "duration": 0,
    "start_time": "2022-04-19T12:42:28.939Z"
   },
   {
    "duration": 0,
    "start_time": "2022-04-19T12:42:28.940Z"
   },
   {
    "duration": 0,
    "start_time": "2022-04-19T12:42:28.941Z"
   },
   {
    "duration": 0,
    "start_time": "2022-04-19T12:42:28.942Z"
   },
   {
    "duration": 0,
    "start_time": "2022-04-19T12:42:28.944Z"
   },
   {
    "duration": 0,
    "start_time": "2022-04-19T12:42:29.002Z"
   },
   {
    "duration": 0,
    "start_time": "2022-04-19T12:42:29.003Z"
   },
   {
    "duration": 0,
    "start_time": "2022-04-19T12:42:29.004Z"
   },
   {
    "duration": 0,
    "start_time": "2022-04-19T12:42:29.005Z"
   },
   {
    "duration": 0,
    "start_time": "2022-04-19T12:42:29.006Z"
   },
   {
    "duration": 0,
    "start_time": "2022-04-19T12:42:29.006Z"
   },
   {
    "duration": 0,
    "start_time": "2022-04-19T12:42:29.007Z"
   },
   {
    "duration": 0,
    "start_time": "2022-04-19T12:42:29.010Z"
   },
   {
    "duration": 0,
    "start_time": "2022-04-19T12:42:29.012Z"
   },
   {
    "duration": 0,
    "start_time": "2022-04-19T12:42:29.013Z"
   },
   {
    "duration": 0,
    "start_time": "2022-04-19T12:42:29.013Z"
   },
   {
    "duration": 0,
    "start_time": "2022-04-19T12:42:29.014Z"
   },
   {
    "duration": 0,
    "start_time": "2022-04-19T12:42:29.014Z"
   },
   {
    "duration": 0,
    "start_time": "2022-04-19T12:42:29.015Z"
   },
   {
    "duration": 0,
    "start_time": "2022-04-19T12:42:29.017Z"
   },
   {
    "duration": 0,
    "start_time": "2022-04-19T12:42:29.018Z"
   },
   {
    "duration": 0,
    "start_time": "2022-04-19T12:42:29.019Z"
   },
   {
    "duration": 0,
    "start_time": "2022-04-19T12:42:29.020Z"
   },
   {
    "duration": 0,
    "start_time": "2022-04-19T12:42:29.022Z"
   },
   {
    "duration": 0,
    "start_time": "2022-04-19T12:42:29.023Z"
   },
   {
    "duration": 0,
    "start_time": "2022-04-19T12:42:29.024Z"
   },
   {
    "duration": 0,
    "start_time": "2022-04-19T12:42:29.025Z"
   },
   {
    "duration": 0,
    "start_time": "2022-04-19T12:42:29.026Z"
   },
   {
    "duration": 0,
    "start_time": "2022-04-19T12:42:29.027Z"
   },
   {
    "duration": 0,
    "start_time": "2022-04-19T12:42:29.028Z"
   },
   {
    "duration": 411,
    "start_time": "2022-04-19T12:42:59.883Z"
   },
   {
    "duration": 83,
    "start_time": "2022-04-19T12:43:00.296Z"
   },
   {
    "duration": 15,
    "start_time": "2022-04-19T12:43:00.380Z"
   },
   {
    "duration": 17,
    "start_time": "2022-04-19T12:43:00.396Z"
   },
   {
    "duration": 27,
    "start_time": "2022-04-19T12:43:00.416Z"
   },
   {
    "duration": 7,
    "start_time": "2022-04-19T12:43:00.445Z"
   },
   {
    "duration": 22,
    "start_time": "2022-04-19T12:43:00.453Z"
   },
   {
    "duration": 56,
    "start_time": "2022-04-19T12:43:00.476Z"
   },
   {
    "duration": 7,
    "start_time": "2022-04-19T12:43:00.534Z"
   },
   {
    "duration": 14,
    "start_time": "2022-04-19T12:43:00.542Z"
   },
   {
    "duration": 9,
    "start_time": "2022-04-19T12:43:00.558Z"
   },
   {
    "duration": 24,
    "start_time": "2022-04-19T12:43:00.568Z"
   },
   {
    "duration": 46,
    "start_time": "2022-04-19T12:43:00.594Z"
   },
   {
    "duration": 24,
    "start_time": "2022-04-19T12:43:00.644Z"
   },
   {
    "duration": 7,
    "start_time": "2022-04-19T12:43:00.670Z"
   },
   {
    "duration": 10,
    "start_time": "2022-04-19T12:43:00.678Z"
   },
   {
    "duration": 8,
    "start_time": "2022-04-19T12:43:00.689Z"
   },
   {
    "duration": 35,
    "start_time": "2022-04-19T12:43:00.699Z"
   },
   {
    "duration": 7,
    "start_time": "2022-04-19T12:43:00.736Z"
   },
   {
    "duration": 3493,
    "start_time": "2022-04-19T12:43:00.744Z"
   },
   {
    "duration": 5,
    "start_time": "2022-04-19T12:43:04.239Z"
   },
   {
    "duration": 8,
    "start_time": "2022-04-19T12:43:04.245Z"
   },
   {
    "duration": 3391,
    "start_time": "2022-04-19T12:43:04.255Z"
   },
   {
    "duration": 14,
    "start_time": "2022-04-19T12:43:07.648Z"
   },
   {
    "duration": 9,
    "start_time": "2022-04-19T12:43:07.664Z"
   },
   {
    "duration": 26,
    "start_time": "2022-04-19T12:43:07.675Z"
   },
   {
    "duration": 22,
    "start_time": "2022-04-19T12:43:07.703Z"
   },
   {
    "duration": 20,
    "start_time": "2022-04-19T12:43:07.727Z"
   },
   {
    "duration": 17,
    "start_time": "2022-04-19T12:43:07.748Z"
   },
   {
    "duration": 17,
    "start_time": "2022-04-19T12:43:07.766Z"
   },
   {
    "duration": 16,
    "start_time": "2022-04-19T12:43:07.784Z"
   },
   {
    "duration": 11,
    "start_time": "2022-04-19T12:43:07.802Z"
   },
   {
    "duration": 24,
    "start_time": "2022-04-19T12:43:07.814Z"
   },
   {
    "duration": 13,
    "start_time": "2022-04-19T12:43:07.840Z"
   },
   {
    "duration": 3,
    "start_time": "2022-04-19T12:43:07.855Z"
   },
   {
    "duration": 6,
    "start_time": "2022-04-19T12:43:07.860Z"
   },
   {
    "duration": 7,
    "start_time": "2022-04-19T12:43:07.868Z"
   },
   {
    "duration": 7,
    "start_time": "2022-04-19T12:43:07.877Z"
   },
   {
    "duration": 11,
    "start_time": "2022-04-19T12:43:07.900Z"
   },
   {
    "duration": 28,
    "start_time": "2022-04-19T12:43:07.912Z"
   },
   {
    "duration": 137,
    "start_time": "2022-04-19T12:43:07.944Z"
   },
   {
    "duration": 5,
    "start_time": "2022-04-19T12:43:08.083Z"
   },
   {
    "duration": 15,
    "start_time": "2022-04-19T12:43:08.089Z"
   },
   {
    "duration": 35,
    "start_time": "2022-04-19T12:43:08.105Z"
   },
   {
    "duration": 333,
    "start_time": "2022-04-19T12:43:08.142Z"
   },
   {
    "duration": 4,
    "start_time": "2022-04-19T12:43:08.477Z"
   },
   {
    "duration": 51,
    "start_time": "2022-04-19T12:43:08.482Z"
   },
   {
    "duration": 9,
    "start_time": "2022-04-19T12:43:08.535Z"
   },
   {
    "duration": 12,
    "start_time": "2022-04-19T12:43:08.545Z"
   },
   {
    "duration": 11,
    "start_time": "2022-04-19T12:43:08.559Z"
   },
   {
    "duration": 6,
    "start_time": "2022-04-19T12:43:08.571Z"
   },
   {
    "duration": 8,
    "start_time": "2022-04-19T12:43:08.579Z"
   },
   {
    "duration": 167,
    "start_time": "2022-04-19T12:43:08.588Z"
   },
   {
    "duration": 10,
    "start_time": "2022-04-19T12:43:08.756Z"
   },
   {
    "duration": 10,
    "start_time": "2022-04-19T12:43:08.768Z"
   },
   {
    "duration": 30,
    "start_time": "2022-04-19T12:43:08.779Z"
   },
   {
    "duration": 7,
    "start_time": "2022-04-19T12:43:08.811Z"
   },
   {
    "duration": 23,
    "start_time": "2022-04-19T12:43:08.820Z"
   },
   {
    "duration": 6,
    "start_time": "2022-04-19T12:43:08.844Z"
   },
   {
    "duration": 3,
    "start_time": "2022-04-19T12:43:08.852Z"
   },
   {
    "duration": 18,
    "start_time": "2022-04-19T12:43:08.857Z"
   },
   {
    "duration": 3,
    "start_time": "2022-04-19T12:43:08.876Z"
   },
   {
    "duration": 29,
    "start_time": "2022-04-19T12:43:08.881Z"
   },
   {
    "duration": 30,
    "start_time": "2022-04-19T12:43:08.919Z"
   },
   {
    "duration": 7,
    "start_time": "2022-04-19T12:43:08.951Z"
   },
   {
    "duration": 17,
    "start_time": "2022-04-19T12:43:08.960Z"
   },
   {
    "duration": 4,
    "start_time": "2022-04-19T12:43:08.978Z"
   },
   {
    "duration": 20,
    "start_time": "2022-04-19T12:43:08.983Z"
   },
   {
    "duration": 4,
    "start_time": "2022-04-19T12:43:09.005Z"
   },
   {
    "duration": 10,
    "start_time": "2022-04-19T12:45:42.199Z"
   },
   {
    "duration": 8,
    "start_time": "2022-04-19T12:46:56.589Z"
   },
   {
    "duration": 587,
    "start_time": "2022-04-20T15:53:33.382Z"
   },
   {
    "duration": 79,
    "start_time": "2022-04-20T15:53:34.316Z"
   },
   {
    "duration": 74,
    "start_time": "2022-04-20T15:54:13.852Z"
   },
   {
    "duration": 29,
    "start_time": "2022-04-20T15:54:15.003Z"
   },
   {
    "duration": 12,
    "start_time": "2022-04-20T15:54:22.401Z"
   },
   {
    "duration": 13,
    "start_time": "2022-04-20T15:54:24.039Z"
   },
   {
    "duration": 5,
    "start_time": "2022-04-20T15:54:25.512Z"
   },
   {
    "duration": 7,
    "start_time": "2022-04-20T15:54:25.917Z"
   },
   {
    "duration": 15,
    "start_time": "2022-04-20T15:55:02.338Z"
   },
   {
    "duration": 32,
    "start_time": "2022-04-20T15:57:28.814Z"
   },
   {
    "duration": 13,
    "start_time": "2022-04-20T15:57:30.749Z"
   },
   {
    "duration": 15,
    "start_time": "2022-04-20T15:57:31.511Z"
   },
   {
    "duration": 10,
    "start_time": "2022-04-20T15:57:32.006Z"
   },
   {
    "duration": 5,
    "start_time": "2022-04-20T15:57:32.847Z"
   },
   {
    "duration": 17,
    "start_time": "2022-04-20T15:57:33.241Z"
   },
   {
    "duration": 5,
    "start_time": "2022-04-20T15:57:34.287Z"
   },
   {
    "duration": 5,
    "start_time": "2022-04-20T15:57:34.625Z"
   },
   {
    "duration": 6,
    "start_time": "2022-04-20T15:57:35.991Z"
   },
   {
    "duration": 6,
    "start_time": "2022-04-20T15:57:36.385Z"
   },
   {
    "duration": 8,
    "start_time": "2022-04-20T15:57:39.398Z"
   },
   {
    "duration": 6,
    "start_time": "2022-04-20T15:57:39.703Z"
   },
   {
    "duration": 6340,
    "start_time": "2022-04-20T15:57:40.619Z"
   },
   {
    "duration": 8,
    "start_time": "2022-04-20T15:57:46.962Z"
   },
   {
    "duration": 21,
    "start_time": "2022-04-20T15:57:46.972Z"
   },
   {
    "duration": 6546,
    "start_time": "2022-04-20T15:57:46.995Z"
   },
   {
    "duration": 16,
    "start_time": "2022-04-20T16:01:19.184Z"
   },
   {
    "duration": 9,
    "start_time": "2022-04-20T16:01:21.048Z"
   },
   {
    "duration": 16,
    "start_time": "2022-04-20T16:01:24.230Z"
   },
   {
    "duration": 8,
    "start_time": "2022-04-20T16:01:24.755Z"
   },
   {
    "duration": 26,
    "start_time": "2022-04-20T16:01:27.435Z"
   },
   {
    "duration": 30,
    "start_time": "2022-04-20T16:01:27.739Z"
   },
   {
    "duration": 7,
    "start_time": "2022-04-20T16:01:28.687Z"
   },
   {
    "duration": 9,
    "start_time": "2022-04-20T16:01:29.426Z"
   },
   {
    "duration": 5,
    "start_time": "2022-04-20T16:01:30.502Z"
   },
   {
    "duration": 21,
    "start_time": "2022-04-20T16:01:31.173Z"
   },
   {
    "duration": 6,
    "start_time": "2022-04-20T16:01:32.403Z"
   },
   {
    "duration": 9,
    "start_time": "2022-04-20T16:01:33.020Z"
   },
   {
    "duration": 11,
    "start_time": "2022-04-20T16:01:40.769Z"
   },
   {
    "duration": 11,
    "start_time": "2022-04-20T16:01:41.303Z"
   },
   {
    "duration": 12,
    "start_time": "2022-04-20T16:01:42.950Z"
   },
   {
    "duration": 5,
    "start_time": "2022-04-20T16:01:44.094Z"
   },
   {
    "duration": 223,
    "start_time": "2022-04-20T16:01:44.545Z"
   },
   {
    "duration": 9,
    "start_time": "2022-04-20T16:01:44.949Z"
   },
   {
    "duration": 19,
    "start_time": "2022-04-20T16:01:47.888Z"
   },
   {
    "duration": 9,
    "start_time": "2022-04-20T16:01:53.964Z"
   },
   {
    "duration": 1287,
    "start_time": "2022-04-20T16:01:55.326Z"
   },
   {
    "duration": 7,
    "start_time": "2022-04-20T16:01:57.265Z"
   },
   {
    "duration": 13,
    "start_time": "2022-04-20T16:02:02.803Z"
   },
   {
    "duration": 10,
    "start_time": "2022-04-20T16:02:04.782Z"
   },
   {
    "duration": 38,
    "start_time": "2022-04-20T16:02:05.417Z"
   },
   {
    "duration": 14,
    "start_time": "2022-04-20T16:02:13.339Z"
   },
   {
    "duration": 9,
    "start_time": "2022-04-20T16:02:19.856Z"
   },
   {
    "duration": 6,
    "start_time": "2022-04-20T16:02:22.036Z"
   },
   {
    "duration": 419,
    "start_time": "2022-04-20T16:02:22.506Z"
   },
   {
    "duration": 29,
    "start_time": "2022-04-20T16:02:23.137Z"
   },
   {
    "duration": 14,
    "start_time": "2022-04-20T16:02:25.417Z"
   },
   {
    "duration": 104,
    "start_time": "2022-04-20T16:23:38.412Z"
   },
   {
    "duration": 51,
    "start_time": "2022-04-20T16:23:58.463Z"
   },
   {
    "duration": 44,
    "start_time": "2022-04-20T16:27:15.216Z"
   },
   {
    "duration": 48,
    "start_time": "2022-04-20T16:27:27.889Z"
   },
   {
    "duration": 50,
    "start_time": "2022-04-20T16:27:48.685Z"
   },
   {
    "duration": 47,
    "start_time": "2022-04-20T16:27:56.792Z"
   },
   {
    "duration": 45,
    "start_time": "2022-04-20T16:28:14.565Z"
   },
   {
    "duration": 48,
    "start_time": "2022-04-20T16:28:48.985Z"
   },
   {
    "duration": 15,
    "start_time": "2022-04-20T16:29:15.673Z"
   },
   {
    "duration": 5,
    "start_time": "2022-04-20T16:29:55.356Z"
   },
   {
    "duration": 18,
    "start_time": "2022-04-20T16:31:51.969Z"
   },
   {
    "duration": 4,
    "start_time": "2022-04-20T16:33:01.861Z"
   },
   {
    "duration": 46,
    "start_time": "2022-04-20T16:33:14.755Z"
   },
   {
    "duration": 3,
    "start_time": "2022-04-20T16:33:26.085Z"
   },
   {
    "duration": 76,
    "start_time": "2022-04-20T16:33:26.467Z"
   },
   {
    "duration": 21,
    "start_time": "2022-04-20T16:33:27.575Z"
   },
   {
    "duration": 6,
    "start_time": "2022-04-20T16:33:28.874Z"
   },
   {
    "duration": 13,
    "start_time": "2022-04-20T16:33:29.516Z"
   },
   {
    "duration": 4,
    "start_time": "2022-04-20T16:33:30.008Z"
   },
   {
    "duration": 5,
    "start_time": "2022-04-20T16:33:30.182Z"
   },
   {
    "duration": 32,
    "start_time": "2022-04-20T16:33:31.030Z"
   },
   {
    "duration": 11,
    "start_time": "2022-04-20T16:33:31.523Z"
   },
   {
    "duration": 11,
    "start_time": "2022-04-20T16:33:31.854Z"
   },
   {
    "duration": 10,
    "start_time": "2022-04-20T16:33:32.167Z"
   },
   {
    "duration": 5,
    "start_time": "2022-04-20T16:33:32.641Z"
   },
   {
    "duration": 17,
    "start_time": "2022-04-20T16:33:32.799Z"
   },
   {
    "duration": 4,
    "start_time": "2022-04-20T16:33:33.126Z"
   },
   {
    "duration": 4,
    "start_time": "2022-04-20T16:33:33.296Z"
   },
   {
    "duration": 5,
    "start_time": "2022-04-20T16:33:33.788Z"
   },
   {
    "duration": 6,
    "start_time": "2022-04-20T16:33:33.943Z"
   },
   {
    "duration": 8,
    "start_time": "2022-04-20T16:33:34.624Z"
   },
   {
    "duration": 7,
    "start_time": "2022-04-20T16:33:34.791Z"
   },
   {
    "duration": 6081,
    "start_time": "2022-04-20T16:33:35.378Z"
   },
   {
    "duration": 8,
    "start_time": "2022-04-20T16:33:41.462Z"
   },
   {
    "duration": 34,
    "start_time": "2022-04-20T16:33:41.473Z"
   },
   {
    "duration": 5983,
    "start_time": "2022-04-20T16:33:41.510Z"
   },
   {
    "duration": 12,
    "start_time": "2022-04-20T16:33:47.495Z"
   },
   {
    "duration": 10,
    "start_time": "2022-04-20T16:33:47.510Z"
   },
   {
    "duration": 14,
    "start_time": "2022-04-20T16:33:47.522Z"
   },
   {
    "duration": 10,
    "start_time": "2022-04-20T16:33:47.538Z"
   },
   {
    "duration": 66,
    "start_time": "2022-04-20T16:33:47.550Z"
   },
   {
    "duration": 27,
    "start_time": "2022-04-20T16:33:47.620Z"
   },
   {
    "duration": 7,
    "start_time": "2022-04-20T16:33:47.649Z"
   },
   {
    "duration": 37,
    "start_time": "2022-04-20T16:33:47.657Z"
   },
   {
    "duration": 4,
    "start_time": "2022-04-20T16:33:47.696Z"
   },
   {
    "duration": 22,
    "start_time": "2022-04-20T16:33:47.703Z"
   },
   {
    "duration": 5,
    "start_time": "2022-04-20T16:33:47.727Z"
   },
   {
    "duration": 11,
    "start_time": "2022-04-20T16:33:47.734Z"
   },
   {
    "duration": 45,
    "start_time": "2022-04-20T16:33:47.747Z"
   },
   {
    "duration": 11,
    "start_time": "2022-04-20T16:33:47.794Z"
   },
   {
    "duration": 12,
    "start_time": "2022-04-20T16:33:47.807Z"
   },
   {
    "duration": 5,
    "start_time": "2022-04-20T16:33:47.821Z"
   },
   {
    "duration": 253,
    "start_time": "2022-04-20T16:33:47.829Z"
   },
   {
    "duration": 13,
    "start_time": "2022-04-20T16:33:48.084Z"
   },
   {
    "duration": 19,
    "start_time": "2022-04-20T16:33:48.099Z"
   },
   {
    "duration": 10,
    "start_time": "2022-04-20T16:33:48.120Z"
   },
   {
    "duration": 833,
    "start_time": "2022-04-20T16:33:48.132Z"
   },
   {
    "duration": 5,
    "start_time": "2022-04-20T16:33:48.967Z"
   },
   {
    "duration": 24,
    "start_time": "2022-04-20T16:33:48.974Z"
   },
   {
    "duration": 10,
    "start_time": "2022-04-20T16:33:49.003Z"
   },
   {
    "duration": 28,
    "start_time": "2022-04-20T16:33:49.015Z"
   },
   {
    "duration": 11,
    "start_time": "2022-04-20T16:33:49.045Z"
   },
   {
    "duration": 37,
    "start_time": "2022-04-20T16:33:49.058Z"
   },
   {
    "duration": 7,
    "start_time": "2022-04-20T16:33:49.097Z"
   },
   {
    "duration": 257,
    "start_time": "2022-04-20T16:33:49.106Z"
   },
   {
    "duration": 20,
    "start_time": "2022-04-20T16:33:49.365Z"
   },
   {
    "duration": 15,
    "start_time": "2022-04-20T16:33:49.394Z"
   },
   {
    "duration": 50,
    "start_time": "2022-04-20T16:33:57.048Z"
   },
   {
    "duration": 8,
    "start_time": "2022-04-20T16:34:03.542Z"
   },
   {
    "duration": 23,
    "start_time": "2022-04-20T16:34:09.908Z"
   },
   {
    "duration": 49,
    "start_time": "2022-04-20T16:56:30.212Z"
   },
   {
    "duration": 36,
    "start_time": "2022-04-20T16:56:40.551Z"
   },
   {
    "duration": 38,
    "start_time": "2022-04-20T16:57:18.055Z"
   },
   {
    "duration": 4,
    "start_time": "2022-04-20T17:01:47.695Z"
   },
   {
    "duration": 4,
    "start_time": "2022-04-20T17:02:56.331Z"
   },
   {
    "duration": 5,
    "start_time": "2022-04-20T17:03:05.188Z"
   },
   {
    "duration": 14,
    "start_time": "2022-04-20T17:03:10.976Z"
   },
   {
    "duration": 16,
    "start_time": "2022-04-20T17:03:48.210Z"
   },
   {
    "duration": 17,
    "start_time": "2022-04-20T17:04:01.510Z"
   },
   {
    "duration": 9,
    "start_time": "2022-04-20T17:11:32.339Z"
   },
   {
    "duration": 50,
    "start_time": "2022-04-20T17:11:37.384Z"
   },
   {
    "duration": 12,
    "start_time": "2022-04-20T17:11:40.780Z"
   },
   {
    "duration": 28,
    "start_time": "2022-04-20T17:12:41.275Z"
   },
   {
    "duration": 16,
    "start_time": "2022-04-20T17:13:08.713Z"
   },
   {
    "duration": 31,
    "start_time": "2022-04-20T17:14:36.253Z"
   },
   {
    "duration": 41,
    "start_time": "2022-04-21T05:08:12.309Z"
   },
   {
    "duration": 399,
    "start_time": "2022-04-21T05:08:26.290Z"
   },
   {
    "duration": 52,
    "start_time": "2022-04-21T05:08:26.691Z"
   },
   {
    "duration": 15,
    "start_time": "2022-04-21T05:08:26.745Z"
   },
   {
    "duration": 8,
    "start_time": "2022-04-21T05:08:26.762Z"
   },
   {
    "duration": 10,
    "start_time": "2022-04-21T05:08:26.772Z"
   },
   {
    "duration": 3,
    "start_time": "2022-04-21T05:08:26.784Z"
   },
   {
    "duration": 5,
    "start_time": "2022-04-21T05:08:26.789Z"
   },
   {
    "duration": 44,
    "start_time": "2022-04-21T05:08:26.796Z"
   },
   {
    "duration": 8,
    "start_time": "2022-04-21T05:08:26.842Z"
   },
   {
    "duration": 12,
    "start_time": "2022-04-21T05:08:26.853Z"
   },
   {
    "duration": 12,
    "start_time": "2022-04-21T05:08:26.866Z"
   },
   {
    "duration": 7,
    "start_time": "2022-04-21T05:08:26.879Z"
   },
   {
    "duration": 22,
    "start_time": "2022-04-21T05:08:26.888Z"
   },
   {
    "duration": 4,
    "start_time": "2022-04-21T05:08:26.925Z"
   },
   {
    "duration": 5,
    "start_time": "2022-04-21T05:08:26.931Z"
   },
   {
    "duration": 5,
    "start_time": "2022-04-21T05:08:26.937Z"
   },
   {
    "duration": 6,
    "start_time": "2022-04-21T05:08:26.944Z"
   },
   {
    "duration": 9,
    "start_time": "2022-04-21T05:08:26.952Z"
   },
   {
    "duration": 5,
    "start_time": "2022-04-21T05:08:26.963Z"
   },
   {
    "duration": 3242,
    "start_time": "2022-04-21T05:08:26.969Z"
   },
   {
    "duration": 13,
    "start_time": "2022-04-21T05:08:30.212Z"
   },
   {
    "duration": 9,
    "start_time": "2022-04-21T05:08:30.227Z"
   },
   {
    "duration": 3041,
    "start_time": "2022-04-21T05:08:30.237Z"
   },
   {
    "duration": 9,
    "start_time": "2022-04-21T05:08:33.280Z"
   },
   {
    "duration": 8,
    "start_time": "2022-04-21T05:08:33.290Z"
   },
   {
    "duration": 24,
    "start_time": "2022-04-21T05:08:33.300Z"
   },
   {
    "duration": 8,
    "start_time": "2022-04-21T05:08:33.325Z"
   },
   {
    "duration": 18,
    "start_time": "2022-04-21T05:08:33.336Z"
   },
   {
    "duration": 18,
    "start_time": "2022-04-21T05:08:33.355Z"
   },
   {
    "duration": 4,
    "start_time": "2022-04-21T05:08:33.375Z"
   },
   {
    "duration": 8,
    "start_time": "2022-04-21T05:08:33.381Z"
   },
   {
    "duration": 35,
    "start_time": "2022-04-21T05:08:33.391Z"
   },
   {
    "duration": 14,
    "start_time": "2022-04-21T05:08:33.428Z"
   },
   {
    "duration": 4,
    "start_time": "2022-04-21T05:08:33.444Z"
   },
   {
    "duration": 7,
    "start_time": "2022-04-21T05:08:33.450Z"
   },
   {
    "duration": 8,
    "start_time": "2022-04-21T05:08:33.459Z"
   },
   {
    "duration": 8,
    "start_time": "2022-04-21T05:08:33.469Z"
   },
   {
    "duration": 9,
    "start_time": "2022-04-21T05:08:33.478Z"
   },
   {
    "duration": 4,
    "start_time": "2022-04-21T05:08:33.524Z"
   },
   {
    "duration": 136,
    "start_time": "2022-04-21T05:08:33.530Z"
   },
   {
    "duration": 7,
    "start_time": "2022-04-21T05:08:33.668Z"
   },
   {
    "duration": 12,
    "start_time": "2022-04-21T05:08:33.676Z"
   },
   {
    "duration": 7,
    "start_time": "2022-04-21T05:08:33.690Z"
   },
   {
    "duration": 329,
    "start_time": "2022-04-21T05:08:33.699Z"
   },
   {
    "duration": 4,
    "start_time": "2022-04-21T05:08:34.030Z"
   },
   {
    "duration": 32,
    "start_time": "2022-04-21T05:08:34.036Z"
   },
   {
    "duration": 12,
    "start_time": "2022-04-21T05:08:34.069Z"
   },
   {
    "duration": 22,
    "start_time": "2022-04-21T05:08:34.083Z"
   },
   {
    "duration": 11,
    "start_time": "2022-04-21T05:08:34.107Z"
   },
   {
    "duration": 6,
    "start_time": "2022-04-21T05:08:34.119Z"
   },
   {
    "duration": 6,
    "start_time": "2022-04-21T05:08:34.126Z"
   },
   {
    "duration": 131,
    "start_time": "2022-04-21T05:08:34.133Z"
   },
   {
    "duration": 13,
    "start_time": "2022-04-21T05:08:34.265Z"
   },
   {
    "duration": 11,
    "start_time": "2022-04-21T05:08:34.280Z"
   },
   {
    "duration": 39,
    "start_time": "2022-04-21T05:08:34.293Z"
   },
   {
    "duration": 31,
    "start_time": "2022-04-21T05:08:34.334Z"
   },
   {
    "duration": 17,
    "start_time": "2022-04-21T05:08:34.366Z"
   },
   {
    "duration": 17,
    "start_time": "2022-04-21T05:08:34.385Z"
   },
   {
    "duration": 36,
    "start_time": "2022-04-21T05:08:34.404Z"
   },
   {
    "duration": 0,
    "start_time": "2022-04-21T05:08:34.442Z"
   },
   {
    "duration": 0,
    "start_time": "2022-04-21T05:08:34.443Z"
   },
   {
    "duration": 0,
    "start_time": "2022-04-21T05:08:34.444Z"
   },
   {
    "duration": 0,
    "start_time": "2022-04-21T05:08:34.445Z"
   },
   {
    "duration": 0,
    "start_time": "2022-04-21T05:08:34.446Z"
   },
   {
    "duration": 0,
    "start_time": "2022-04-21T05:08:34.447Z"
   },
   {
    "duration": 0,
    "start_time": "2022-04-21T05:08:34.448Z"
   },
   {
    "duration": 0,
    "start_time": "2022-04-21T05:08:34.449Z"
   },
   {
    "duration": 0,
    "start_time": "2022-04-21T05:08:34.450Z"
   },
   {
    "duration": 0,
    "start_time": "2022-04-21T05:08:34.451Z"
   },
   {
    "duration": 0,
    "start_time": "2022-04-21T05:08:34.452Z"
   },
   {
    "duration": 0,
    "start_time": "2022-04-21T05:08:34.454Z"
   },
   {
    "duration": 0,
    "start_time": "2022-04-21T05:08:34.454Z"
   },
   {
    "duration": 0,
    "start_time": "2022-04-21T05:08:34.456Z"
   },
   {
    "duration": 0,
    "start_time": "2022-04-21T05:08:34.456Z"
   },
   {
    "duration": 6,
    "start_time": "2022-04-21T05:09:52.075Z"
   },
   {
    "duration": 6,
    "start_time": "2022-04-21T05:10:03.135Z"
   },
   {
    "duration": 6,
    "start_time": "2022-04-21T05:10:08.492Z"
   },
   {
    "duration": 6,
    "start_time": "2022-04-21T05:10:43.168Z"
   },
   {
    "duration": 21,
    "start_time": "2022-04-21T05:11:18.492Z"
   },
   {
    "duration": 15,
    "start_time": "2022-04-21T05:13:14.112Z"
   },
   {
    "duration": 13,
    "start_time": "2022-04-21T05:13:55.378Z"
   },
   {
    "duration": 98,
    "start_time": "2022-04-21T05:16:03.456Z"
   },
   {
    "duration": 16,
    "start_time": "2022-04-21T05:16:26.358Z"
   },
   {
    "duration": 16,
    "start_time": "2022-04-21T05:16:36.333Z"
   },
   {
    "duration": 14,
    "start_time": "2022-04-21T05:17:02.923Z"
   },
   {
    "duration": 99,
    "start_time": "2022-04-21T05:17:23.079Z"
   },
   {
    "duration": 14,
    "start_time": "2022-04-21T05:17:30.166Z"
   },
   {
    "duration": 11,
    "start_time": "2022-04-21T05:30:13.225Z"
   },
   {
    "duration": 19,
    "start_time": "2022-04-21T05:30:25.571Z"
   },
   {
    "duration": 14,
    "start_time": "2022-04-21T05:32:40.407Z"
   },
   {
    "duration": 10,
    "start_time": "2022-04-21T05:41:20.105Z"
   },
   {
    "duration": 99,
    "start_time": "2022-04-21T05:41:34.927Z"
   },
   {
    "duration": 10,
    "start_time": "2022-04-21T05:41:46.138Z"
   },
   {
    "duration": 97,
    "start_time": "2022-04-21T05:41:54.500Z"
   },
   {
    "duration": 6,
    "start_time": "2022-04-21T05:42:04.213Z"
   },
   {
    "duration": 114,
    "start_time": "2022-04-21T05:43:07.480Z"
   },
   {
    "duration": 96,
    "start_time": "2022-04-21T05:43:20.672Z"
   },
   {
    "duration": 22,
    "start_time": "2022-04-21T05:43:32.048Z"
   },
   {
    "duration": 19,
    "start_time": "2022-04-21T05:44:11.059Z"
   },
   {
    "duration": 25,
    "start_time": "2022-04-21T05:44:21.872Z"
   },
   {
    "duration": 3,
    "start_time": "2022-04-21T06:00:20.046Z"
   },
   {
    "duration": 10,
    "start_time": "2022-04-21T06:00:30.755Z"
   },
   {
    "duration": 8,
    "start_time": "2022-04-21T06:00:48.158Z"
   },
   {
    "duration": 11,
    "start_time": "2022-04-21T06:01:18.056Z"
   },
   {
    "duration": 11,
    "start_time": "2022-04-21T06:03:01.264Z"
   },
   {
    "duration": 30,
    "start_time": "2022-04-21T06:11:29.861Z"
   },
   {
    "duration": 14,
    "start_time": "2022-04-21T06:20:33.737Z"
   },
   {
    "duration": 14,
    "start_time": "2022-04-21T06:20:56.978Z"
   },
   {
    "duration": 30,
    "start_time": "2022-04-21T06:21:40.556Z"
   },
   {
    "duration": 30,
    "start_time": "2022-04-21T06:21:46.211Z"
   },
   {
    "duration": 40,
    "start_time": "2022-04-21T06:22:27.341Z"
   },
   {
    "duration": 34,
    "start_time": "2022-04-21T06:22:55.000Z"
   },
   {
    "duration": 11,
    "start_time": "2022-04-21T06:29:57.650Z"
   },
   {
    "duration": 29,
    "start_time": "2022-04-21T06:30:41.047Z"
   },
   {
    "duration": 30,
    "start_time": "2022-04-21T06:31:34.709Z"
   },
   {
    "duration": 29,
    "start_time": "2022-04-21T06:32:07.353Z"
   },
   {
    "duration": 30,
    "start_time": "2022-04-21T06:32:25.868Z"
   },
   {
    "duration": 106,
    "start_time": "2022-04-21T06:34:10.023Z"
   },
   {
    "duration": 22,
    "start_time": "2022-04-21T06:34:31.118Z"
   },
   {
    "duration": 3,
    "start_time": "2022-04-21T06:34:48.676Z"
   },
   {
    "duration": 9,
    "start_time": "2022-04-21T06:34:52.568Z"
   },
   {
    "duration": 10,
    "start_time": "2022-04-21T06:35:27.051Z"
   },
   {
    "duration": 10,
    "start_time": "2022-04-21T06:35:39.590Z"
   },
   {
    "duration": 16,
    "start_time": "2022-04-21T06:36:39.070Z"
   },
   {
    "duration": 6,
    "start_time": "2022-04-21T06:36:40.918Z"
   },
   {
    "duration": 3,
    "start_time": "2022-04-21T06:48:08.845Z"
   },
   {
    "duration": 10,
    "start_time": "2022-04-21T06:48:10.552Z"
   },
   {
    "duration": 9,
    "start_time": "2022-04-21T06:48:33.331Z"
   },
   {
    "duration": 22,
    "start_time": "2022-04-21T06:48:45.001Z"
   },
   {
    "duration": 3,
    "start_time": "2022-04-21T06:48:45.383Z"
   },
   {
    "duration": 8,
    "start_time": "2022-04-21T06:48:45.683Z"
   },
   {
    "duration": 3,
    "start_time": "2022-04-21T06:48:59.624Z"
   },
   {
    "duration": 10,
    "start_time": "2022-04-21T06:48:59.839Z"
   },
   {
    "duration": 10,
    "start_time": "2022-04-21T06:49:16.790Z"
   },
   {
    "duration": 3,
    "start_time": "2022-04-21T06:50:04.509Z"
   },
   {
    "duration": 69,
    "start_time": "2022-04-21T06:50:04.513Z"
   },
   {
    "duration": 41,
    "start_time": "2022-04-21T06:50:04.583Z"
   },
   {
    "duration": 4,
    "start_time": "2022-04-21T06:50:04.627Z"
   },
   {
    "duration": 10,
    "start_time": "2022-04-21T06:50:04.633Z"
   },
   {
    "duration": 4,
    "start_time": "2022-04-21T06:50:04.645Z"
   },
   {
    "duration": 6,
    "start_time": "2022-04-21T06:50:04.651Z"
   },
   {
    "duration": 21,
    "start_time": "2022-04-21T06:50:04.658Z"
   },
   {
    "duration": 7,
    "start_time": "2022-04-21T06:50:04.681Z"
   },
   {
    "duration": 41,
    "start_time": "2022-04-21T06:50:04.689Z"
   },
   {
    "duration": 9,
    "start_time": "2022-04-21T06:50:04.731Z"
   },
   {
    "duration": 5,
    "start_time": "2022-04-21T06:50:04.742Z"
   },
   {
    "duration": 14,
    "start_time": "2022-04-21T06:50:04.749Z"
   },
   {
    "duration": 4,
    "start_time": "2022-04-21T06:50:04.765Z"
   },
   {
    "duration": 4,
    "start_time": "2022-04-21T06:50:04.770Z"
   },
   {
    "duration": 5,
    "start_time": "2022-04-21T06:50:04.776Z"
   },
   {
    "duration": 5,
    "start_time": "2022-04-21T06:50:04.782Z"
   },
   {
    "duration": 7,
    "start_time": "2022-04-21T06:50:04.789Z"
   },
   {
    "duration": 28,
    "start_time": "2022-04-21T06:50:04.797Z"
   },
   {
    "duration": 3119,
    "start_time": "2022-04-21T06:50:04.826Z"
   },
   {
    "duration": 5,
    "start_time": "2022-04-21T06:50:07.947Z"
   },
   {
    "duration": 9,
    "start_time": "2022-04-21T06:50:07.953Z"
   },
   {
    "duration": 2996,
    "start_time": "2022-04-21T06:50:07.963Z"
   },
   {
    "duration": 8,
    "start_time": "2022-04-21T06:50:10.992Z"
   },
   {
    "duration": 5,
    "start_time": "2022-04-21T06:50:11.001Z"
   },
   {
    "duration": 9,
    "start_time": "2022-04-21T06:50:11.023Z"
   },
   {
    "duration": 13,
    "start_time": "2022-04-21T06:50:11.034Z"
   },
   {
    "duration": 15,
    "start_time": "2022-04-21T06:50:11.048Z"
   },
   {
    "duration": 16,
    "start_time": "2022-04-21T06:50:11.065Z"
   },
   {
    "duration": 5,
    "start_time": "2022-04-21T06:50:11.082Z"
   },
   {
    "duration": 7,
    "start_time": "2022-04-21T06:50:11.088Z"
   },
   {
    "duration": 27,
    "start_time": "2022-04-21T06:50:11.096Z"
   },
   {
    "duration": 11,
    "start_time": "2022-04-21T06:50:11.125Z"
   },
   {
    "duration": 6,
    "start_time": "2022-04-21T06:50:11.138Z"
   },
   {
    "duration": 7,
    "start_time": "2022-04-21T06:50:11.145Z"
   },
   {
    "duration": 7,
    "start_time": "2022-04-21T06:50:11.153Z"
   },
   {
    "duration": 7,
    "start_time": "2022-04-21T06:50:11.161Z"
   },
   {
    "duration": 10,
    "start_time": "2022-04-21T06:50:11.169Z"
   },
   {
    "duration": 6,
    "start_time": "2022-04-21T06:50:11.180Z"
   },
   {
    "duration": 148,
    "start_time": "2022-04-21T06:50:11.187Z"
   },
   {
    "duration": 5,
    "start_time": "2022-04-21T06:50:11.337Z"
   },
   {
    "duration": 12,
    "start_time": "2022-04-21T06:50:11.343Z"
   },
   {
    "duration": 10,
    "start_time": "2022-04-21T06:50:11.356Z"
   },
   {
    "duration": 304,
    "start_time": "2022-04-21T06:50:11.367Z"
   },
   {
    "duration": 3,
    "start_time": "2022-04-21T06:50:11.672Z"
   },
   {
    "duration": 13,
    "start_time": "2022-04-21T06:50:11.677Z"
   },
   {
    "duration": 6,
    "start_time": "2022-04-21T06:50:11.692Z"
   },
   {
    "duration": 23,
    "start_time": "2022-04-21T06:50:11.700Z"
   },
   {
    "duration": 6,
    "start_time": "2022-04-21T06:50:11.725Z"
   },
   {
    "duration": 5,
    "start_time": "2022-04-21T06:50:11.733Z"
   },
   {
    "duration": 5,
    "start_time": "2022-04-21T06:50:11.739Z"
   },
   {
    "duration": 131,
    "start_time": "2022-04-21T06:50:11.746Z"
   },
   {
    "duration": 10,
    "start_time": "2022-04-21T06:50:11.879Z"
   },
   {
    "duration": 22,
    "start_time": "2022-04-21T06:50:11.891Z"
   },
   {
    "duration": 31,
    "start_time": "2022-04-21T06:50:11.914Z"
   },
   {
    "duration": 9,
    "start_time": "2022-04-21T06:50:11.947Z"
   },
   {
    "duration": 23,
    "start_time": "2022-04-21T06:50:11.958Z"
   },
   {
    "duration": 20,
    "start_time": "2022-04-21T06:50:11.982Z"
   },
   {
    "duration": 21,
    "start_time": "2022-04-21T06:50:12.004Z"
   },
   {
    "duration": 22,
    "start_time": "2022-04-21T06:50:12.026Z"
   },
   {
    "duration": 3,
    "start_time": "2022-04-21T06:50:12.049Z"
   },
   {
    "duration": 23,
    "start_time": "2022-04-21T06:50:12.054Z"
   },
   {
    "duration": 9,
    "start_time": "2022-04-21T06:50:12.079Z"
   },
   {
    "duration": 6,
    "start_time": "2022-04-21T06:50:12.090Z"
   },
   {
    "duration": 26,
    "start_time": "2022-04-21T06:50:12.097Z"
   },
   {
    "duration": 12,
    "start_time": "2022-04-21T06:50:12.125Z"
   },
   {
    "duration": 20,
    "start_time": "2022-04-21T06:50:12.139Z"
   },
   {
    "duration": 4,
    "start_time": "2022-04-21T06:50:12.161Z"
   },
   {
    "duration": 20,
    "start_time": "2022-04-21T06:50:12.169Z"
   },
   {
    "duration": 21,
    "start_time": "2022-04-21T06:50:12.190Z"
   },
   {
    "duration": 9,
    "start_time": "2022-04-21T06:50:12.213Z"
   },
   {
    "duration": 22,
    "start_time": "2022-04-21T06:50:12.224Z"
   },
   {
    "duration": 12,
    "start_time": "2022-04-21T06:51:00.084Z"
   },
   {
    "duration": 14,
    "start_time": "2022-04-21T06:51:38.846Z"
   },
   {
    "duration": 14,
    "start_time": "2022-04-21T06:53:05.174Z"
   },
   {
    "duration": 12,
    "start_time": "2022-04-21T06:58:15.211Z"
   },
   {
    "duration": 12,
    "start_time": "2022-04-21T06:58:33.726Z"
   },
   {
    "duration": 21,
    "start_time": "2022-04-21T07:04:41.541Z"
   },
   {
    "duration": 3,
    "start_time": "2022-04-21T07:04:43.272Z"
   },
   {
    "duration": 12,
    "start_time": "2022-04-21T07:04:57.558Z"
   },
   {
    "duration": 13,
    "start_time": "2022-04-21T07:07:30.789Z"
   },
   {
    "duration": 41,
    "start_time": "2022-04-21T07:25:24.805Z"
   },
   {
    "duration": 395,
    "start_time": "2022-04-21T07:25:31.804Z"
   },
   {
    "duration": 51,
    "start_time": "2022-04-21T07:25:32.201Z"
   },
   {
    "duration": 13,
    "start_time": "2022-04-21T07:25:32.254Z"
   },
   {
    "duration": 13,
    "start_time": "2022-04-21T07:25:32.269Z"
   },
   {
    "duration": 13,
    "start_time": "2022-04-21T07:25:32.284Z"
   },
   {
    "duration": 2,
    "start_time": "2022-04-21T07:25:32.299Z"
   },
   {
    "duration": 9,
    "start_time": "2022-04-21T07:25:32.303Z"
   },
   {
    "duration": 20,
    "start_time": "2022-04-21T07:25:32.324Z"
   },
   {
    "duration": 6,
    "start_time": "2022-04-21T07:25:32.346Z"
   },
   {
    "duration": 10,
    "start_time": "2022-04-21T07:25:32.354Z"
   },
   {
    "duration": 6,
    "start_time": "2022-04-21T07:25:32.366Z"
   },
   {
    "duration": 5,
    "start_time": "2022-04-21T07:25:32.374Z"
   },
   {
    "duration": 19,
    "start_time": "2022-04-21T07:25:32.380Z"
   },
   {
    "duration": 4,
    "start_time": "2022-04-21T07:25:32.423Z"
   },
   {
    "duration": 7,
    "start_time": "2022-04-21T07:25:32.428Z"
   },
   {
    "duration": 5,
    "start_time": "2022-04-21T07:25:32.437Z"
   },
   {
    "duration": 5,
    "start_time": "2022-04-21T07:25:32.443Z"
   },
   {
    "duration": 7,
    "start_time": "2022-04-21T07:25:32.450Z"
   },
   {
    "duration": 5,
    "start_time": "2022-04-21T07:25:32.459Z"
   },
   {
    "duration": 2949,
    "start_time": "2022-04-21T07:25:32.466Z"
   },
   {
    "duration": 9,
    "start_time": "2022-04-21T07:25:35.417Z"
   },
   {
    "duration": 10,
    "start_time": "2022-04-21T07:25:35.428Z"
   },
   {
    "duration": 2967,
    "start_time": "2022-04-21T07:25:35.439Z"
   },
   {
    "duration": 9,
    "start_time": "2022-04-21T07:25:38.407Z"
   },
   {
    "duration": 4,
    "start_time": "2022-04-21T07:25:38.423Z"
   },
   {
    "duration": 10,
    "start_time": "2022-04-21T07:25:38.429Z"
   },
   {
    "duration": 5,
    "start_time": "2022-04-21T07:25:38.441Z"
   },
   {
    "duration": 16,
    "start_time": "2022-04-21T07:25:38.447Z"
   },
   {
    "duration": 16,
    "start_time": "2022-04-21T07:25:38.465Z"
   },
   {
    "duration": 4,
    "start_time": "2022-04-21T07:25:38.482Z"
   },
   {
    "duration": 37,
    "start_time": "2022-04-21T07:25:38.487Z"
   },
   {
    "duration": 3,
    "start_time": "2022-04-21T07:25:38.525Z"
   },
   {
    "duration": 14,
    "start_time": "2022-04-21T07:25:38.529Z"
   },
   {
    "duration": 5,
    "start_time": "2022-04-21T07:25:38.544Z"
   },
   {
    "duration": 7,
    "start_time": "2022-04-21T07:25:38.550Z"
   },
   {
    "duration": 6,
    "start_time": "2022-04-21T07:25:38.559Z"
   },
   {
    "duration": 6,
    "start_time": "2022-04-21T07:25:38.567Z"
   },
   {
    "duration": 7,
    "start_time": "2022-04-21T07:25:38.574Z"
   },
   {
    "duration": 3,
    "start_time": "2022-04-21T07:25:38.582Z"
   },
   {
    "duration": 153,
    "start_time": "2022-04-21T07:25:38.587Z"
   },
   {
    "duration": 5,
    "start_time": "2022-04-21T07:25:38.743Z"
   },
   {
    "duration": 12,
    "start_time": "2022-04-21T07:25:38.750Z"
   },
   {
    "duration": 6,
    "start_time": "2022-04-21T07:25:38.764Z"
   },
   {
    "duration": 322,
    "start_time": "2022-04-21T07:25:38.772Z"
   },
   {
    "duration": 4,
    "start_time": "2022-04-21T07:25:39.095Z"
   },
   {
    "duration": 23,
    "start_time": "2022-04-21T07:25:39.101Z"
   },
   {
    "duration": 6,
    "start_time": "2022-04-21T07:25:39.125Z"
   },
   {
    "duration": 12,
    "start_time": "2022-04-21T07:25:39.133Z"
   },
   {
    "duration": 15,
    "start_time": "2022-04-21T07:25:39.147Z"
   },
   {
    "duration": 6,
    "start_time": "2022-04-21T07:25:39.164Z"
   },
   {
    "duration": 14,
    "start_time": "2022-04-21T07:25:39.171Z"
   },
   {
    "duration": 130,
    "start_time": "2022-04-21T07:25:39.187Z"
   },
   {
    "duration": 15,
    "start_time": "2022-04-21T07:25:39.318Z"
   },
   {
    "duration": 9,
    "start_time": "2022-04-21T07:25:39.335Z"
   },
   {
    "duration": 16,
    "start_time": "2022-04-21T07:25:39.346Z"
   },
   {
    "duration": 7,
    "start_time": "2022-04-21T07:25:39.364Z"
   },
   {
    "duration": 8,
    "start_time": "2022-04-21T07:25:39.372Z"
   },
   {
    "duration": 44,
    "start_time": "2022-04-21T07:25:39.382Z"
   },
   {
    "duration": 3,
    "start_time": "2022-04-21T07:25:39.428Z"
   },
   {
    "duration": 13,
    "start_time": "2022-04-21T07:25:39.433Z"
   },
   {
    "duration": 3,
    "start_time": "2022-04-21T07:25:39.448Z"
   },
   {
    "duration": 14,
    "start_time": "2022-04-21T07:25:39.453Z"
   },
   {
    "duration": 9,
    "start_time": "2022-04-21T07:25:39.469Z"
   },
   {
    "duration": 5,
    "start_time": "2022-04-21T07:25:39.479Z"
   },
   {
    "duration": 45,
    "start_time": "2022-04-21T07:25:39.486Z"
   },
   {
    "duration": 3,
    "start_time": "2022-04-21T07:25:39.533Z"
   },
   {
    "duration": 14,
    "start_time": "2022-04-21T07:25:39.538Z"
   },
   {
    "duration": 3,
    "start_time": "2022-04-21T07:25:39.554Z"
   },
   {
    "duration": 19,
    "start_time": "2022-04-21T07:25:39.558Z"
   },
   {
    "duration": 23,
    "start_time": "2022-04-21T07:25:39.579Z"
   },
   {
    "duration": 12,
    "start_time": "2022-04-21T07:25:39.623Z"
   },
   {
    "duration": 25,
    "start_time": "2022-04-21T07:27:40.302Z"
   },
   {
    "duration": 22,
    "start_time": "2022-04-21T07:27:49.933Z"
   },
   {
    "duration": 26,
    "start_time": "2022-04-21T07:28:16.684Z"
   },
   {
    "duration": 29,
    "start_time": "2022-04-21T07:28:39.689Z"
   },
   {
    "duration": 24,
    "start_time": "2022-04-21T07:29:53.115Z"
   },
   {
    "duration": 29,
    "start_time": "2022-04-21T07:30:07.445Z"
   },
   {
    "duration": 29,
    "start_time": "2022-04-21T07:31:04.725Z"
   },
   {
    "duration": 32,
    "start_time": "2022-04-21T07:31:10.832Z"
   },
   {
    "duration": 28,
    "start_time": "2022-04-21T07:31:50.713Z"
   },
   {
    "duration": 12,
    "start_time": "2022-04-21T07:43:46.800Z"
   },
   {
    "duration": 8,
    "start_time": "2022-04-21T08:03:23.652Z"
   },
   {
    "duration": 17,
    "start_time": "2022-04-21T08:03:36.038Z"
   },
   {
    "duration": 5,
    "start_time": "2022-04-21T08:04:32.983Z"
   },
   {
    "duration": 6,
    "start_time": "2022-04-21T08:04:49.405Z"
   },
   {
    "duration": 28,
    "start_time": "2022-04-21T08:14:07.021Z"
   },
   {
    "duration": 4,
    "start_time": "2022-04-21T08:26:13.263Z"
   },
   {
    "duration": 5,
    "start_time": "2022-04-21T08:26:34.653Z"
   },
   {
    "duration": 4,
    "start_time": "2022-04-21T08:26:41.100Z"
   },
   {
    "duration": 410,
    "start_time": "2022-04-21T08:40:24.992Z"
   },
   {
    "duration": 52,
    "start_time": "2022-04-21T08:40:25.404Z"
   },
   {
    "duration": 13,
    "start_time": "2022-04-21T08:40:25.458Z"
   },
   {
    "duration": 7,
    "start_time": "2022-04-21T08:40:25.473Z"
   },
   {
    "duration": 11,
    "start_time": "2022-04-21T08:40:25.482Z"
   },
   {
    "duration": 3,
    "start_time": "2022-04-21T08:40:25.494Z"
   },
   {
    "duration": 6,
    "start_time": "2022-04-21T08:40:25.498Z"
   },
   {
    "duration": 21,
    "start_time": "2022-04-21T08:40:25.523Z"
   },
   {
    "duration": 7,
    "start_time": "2022-04-21T08:40:25.546Z"
   },
   {
    "duration": 12,
    "start_time": "2022-04-21T08:40:25.557Z"
   },
   {
    "duration": 5,
    "start_time": "2022-04-21T08:40:25.571Z"
   },
   {
    "duration": 4,
    "start_time": "2022-04-21T08:40:25.578Z"
   },
   {
    "duration": 41,
    "start_time": "2022-04-21T08:40:25.583Z"
   },
   {
    "duration": 7,
    "start_time": "2022-04-21T08:40:25.626Z"
   },
   {
    "duration": 8,
    "start_time": "2022-04-21T08:40:25.635Z"
   },
   {
    "duration": 6,
    "start_time": "2022-04-21T08:40:25.644Z"
   },
   {
    "duration": 6,
    "start_time": "2022-04-21T08:40:25.651Z"
   },
   {
    "duration": 7,
    "start_time": "2022-04-21T08:40:25.658Z"
   },
   {
    "duration": 6,
    "start_time": "2022-04-21T08:40:25.666Z"
   },
   {
    "duration": 3011,
    "start_time": "2022-04-21T08:40:25.674Z"
   },
   {
    "duration": 6,
    "start_time": "2022-04-21T08:40:28.687Z"
   },
   {
    "duration": 6,
    "start_time": "2022-04-21T08:40:28.694Z"
   },
   {
    "duration": 3084,
    "start_time": "2022-04-21T08:40:28.702Z"
   },
   {
    "duration": 10,
    "start_time": "2022-04-21T08:40:31.787Z"
   },
   {
    "duration": 6,
    "start_time": "2022-04-21T08:40:31.799Z"
   },
   {
    "duration": 23,
    "start_time": "2022-04-21T08:40:31.807Z"
   },
   {
    "duration": 7,
    "start_time": "2022-04-21T08:40:31.832Z"
   },
   {
    "duration": 16,
    "start_time": "2022-04-21T08:40:31.843Z"
   },
   {
    "duration": 16,
    "start_time": "2022-04-21T08:40:31.861Z"
   },
   {
    "duration": 4,
    "start_time": "2022-04-21T08:40:31.878Z"
   },
   {
    "duration": 8,
    "start_time": "2022-04-21T08:40:31.884Z"
   },
   {
    "duration": 31,
    "start_time": "2022-04-21T08:40:31.893Z"
   },
   {
    "duration": 13,
    "start_time": "2022-04-21T08:40:31.925Z"
   },
   {
    "duration": 7,
    "start_time": "2022-04-21T08:40:31.939Z"
   },
   {
    "duration": 7,
    "start_time": "2022-04-21T08:40:31.947Z"
   },
   {
    "duration": 7,
    "start_time": "2022-04-21T08:40:31.955Z"
   },
   {
    "duration": 7,
    "start_time": "2022-04-21T08:40:31.963Z"
   },
   {
    "duration": 9,
    "start_time": "2022-04-21T08:40:31.972Z"
   },
   {
    "duration": 2,
    "start_time": "2022-04-21T08:40:31.983Z"
   },
   {
    "duration": 152,
    "start_time": "2022-04-21T08:40:31.987Z"
   },
   {
    "duration": 5,
    "start_time": "2022-04-21T08:40:32.141Z"
   },
   {
    "duration": 16,
    "start_time": "2022-04-21T08:40:32.147Z"
   },
   {
    "duration": 12,
    "start_time": "2022-04-21T08:40:32.164Z"
   },
   {
    "duration": 321,
    "start_time": "2022-04-21T08:40:32.177Z"
   },
   {
    "duration": 4,
    "start_time": "2022-04-21T08:40:32.499Z"
   },
   {
    "duration": 15,
    "start_time": "2022-04-21T08:40:32.504Z"
   },
   {
    "duration": 6,
    "start_time": "2022-04-21T08:40:32.523Z"
   },
   {
    "duration": 11,
    "start_time": "2022-04-21T08:40:32.530Z"
   },
   {
    "duration": 9,
    "start_time": "2022-04-21T08:40:32.543Z"
   },
   {
    "duration": 11,
    "start_time": "2022-04-21T08:40:32.553Z"
   },
   {
    "duration": 9,
    "start_time": "2022-04-21T08:40:32.566Z"
   },
   {
    "duration": 137,
    "start_time": "2022-04-21T08:40:32.576Z"
   },
   {
    "duration": 11,
    "start_time": "2022-04-21T08:40:32.714Z"
   },
   {
    "duration": 10,
    "start_time": "2022-04-21T08:40:32.726Z"
   },
   {
    "duration": 16,
    "start_time": "2022-04-21T08:40:32.737Z"
   },
   {
    "duration": 5,
    "start_time": "2022-04-21T08:40:32.755Z"
   },
   {
    "duration": 8,
    "start_time": "2022-04-21T08:40:32.762Z"
   },
   {
    "duration": 7,
    "start_time": "2022-04-21T08:40:32.771Z"
   },
   {
    "duration": 4,
    "start_time": "2022-04-21T08:40:32.779Z"
   },
   {
    "duration": 46,
    "start_time": "2022-04-21T08:40:32.784Z"
   },
   {
    "duration": 5,
    "start_time": "2022-04-21T08:40:32.832Z"
   },
   {
    "duration": 14,
    "start_time": "2022-04-21T08:40:32.839Z"
   },
   {
    "duration": 8,
    "start_time": "2022-04-21T08:40:32.855Z"
   },
   {
    "duration": 6,
    "start_time": "2022-04-21T08:40:32.864Z"
   },
   {
    "duration": 17,
    "start_time": "2022-04-21T08:40:32.871Z"
   },
   {
    "duration": 3,
    "start_time": "2022-04-21T08:40:32.890Z"
   },
   {
    "duration": 41,
    "start_time": "2022-04-21T08:40:32.895Z"
   },
   {
    "duration": 4,
    "start_time": "2022-04-21T08:40:32.937Z"
   },
   {
    "duration": 17,
    "start_time": "2022-04-21T08:40:32.942Z"
   },
   {
    "duration": 22,
    "start_time": "2022-04-21T08:40:32.961Z"
   },
   {
    "duration": 13,
    "start_time": "2022-04-21T08:40:32.984Z"
   },
   {
    "duration": 56,
    "start_time": "2022-04-21T08:40:32.998Z"
   },
   {
    "duration": 31,
    "start_time": "2022-04-21T08:40:33.056Z"
   },
   {
    "duration": 51,
    "start_time": "2022-04-21T08:40:33.088Z"
   },
   {
    "duration": 498,
    "start_time": "2022-04-21T19:12:26.523Z"
   },
   {
    "duration": 76,
    "start_time": "2022-04-21T19:12:27.025Z"
   },
   {
    "duration": 22,
    "start_time": "2022-04-21T19:12:27.104Z"
   },
   {
    "duration": 13,
    "start_time": "2022-04-21T19:12:27.128Z"
   },
   {
    "duration": 39,
    "start_time": "2022-04-21T19:12:27.144Z"
   },
   {
    "duration": 4,
    "start_time": "2022-04-21T19:12:27.186Z"
   },
   {
    "duration": 10,
    "start_time": "2022-04-21T19:12:27.193Z"
   },
   {
    "duration": 50,
    "start_time": "2022-04-21T19:12:27.206Z"
   },
   {
    "duration": 13,
    "start_time": "2022-04-21T19:12:27.283Z"
   },
   {
    "duration": 11,
    "start_time": "2022-04-21T19:12:27.299Z"
   },
   {
    "duration": 11,
    "start_time": "2022-04-21T19:12:27.312Z"
   },
   {
    "duration": 7,
    "start_time": "2022-04-21T19:12:27.325Z"
   },
   {
    "duration": 59,
    "start_time": "2022-04-21T19:12:27.334Z"
   },
   {
    "duration": 5,
    "start_time": "2022-04-21T19:12:27.398Z"
   },
   {
    "duration": 7,
    "start_time": "2022-04-21T19:12:27.405Z"
   },
   {
    "duration": 10,
    "start_time": "2022-04-21T19:12:27.414Z"
   },
   {
    "duration": 6692,
    "start_time": "2022-04-21T19:12:27.492Z"
   },
   {
    "duration": 9,
    "start_time": "2022-04-21T19:12:34.186Z"
   },
   {
    "duration": 12,
    "start_time": "2022-04-21T19:12:34.197Z"
   },
   {
    "duration": 6845,
    "start_time": "2022-04-21T19:12:34.211Z"
   },
   {
    "duration": 14,
    "start_time": "2022-04-21T19:12:41.058Z"
   },
   {
    "duration": 8,
    "start_time": "2022-04-21T19:12:41.081Z"
   },
   {
    "duration": 20,
    "start_time": "2022-04-21T19:12:41.091Z"
   },
   {
    "duration": 14,
    "start_time": "2022-04-21T19:12:41.113Z"
   },
   {
    "duration": 53,
    "start_time": "2022-04-21T19:12:41.130Z"
   },
   {
    "duration": 27,
    "start_time": "2022-04-21T19:12:41.185Z"
   },
   {
    "duration": 6,
    "start_time": "2022-04-21T19:12:41.215Z"
   },
   {
    "duration": 12,
    "start_time": "2022-04-21T19:12:41.223Z"
   },
   {
    "duration": 6,
    "start_time": "2022-04-21T19:12:41.238Z"
   },
   {
    "duration": 50,
    "start_time": "2022-04-21T19:12:41.247Z"
   },
   {
    "duration": 5,
    "start_time": "2022-04-21T19:12:41.299Z"
   },
   {
    "duration": 9,
    "start_time": "2022-04-21T19:12:41.306Z"
   },
   {
    "duration": 11,
    "start_time": "2022-04-21T19:12:41.317Z"
   },
   {
    "duration": 9,
    "start_time": "2022-04-21T19:12:41.330Z"
   },
   {
    "duration": 46,
    "start_time": "2022-04-21T19:12:41.342Z"
   },
   {
    "duration": 6,
    "start_time": "2022-04-21T19:12:41.390Z"
   },
   {
    "duration": 263,
    "start_time": "2022-04-21T19:12:41.398Z"
   },
   {
    "duration": 16,
    "start_time": "2022-04-21T19:12:41.668Z"
   },
   {
    "duration": 18,
    "start_time": "2022-04-21T19:12:41.687Z"
   },
   {
    "duration": 8,
    "start_time": "2022-04-21T19:12:41.708Z"
   },
   {
    "duration": 806,
    "start_time": "2022-04-21T19:12:41.718Z"
   },
   {
    "duration": 4,
    "start_time": "2022-04-21T19:12:42.527Z"
   },
   {
    "duration": 16,
    "start_time": "2022-04-21T19:12:42.534Z"
   },
   {
    "duration": 10,
    "start_time": "2022-04-21T19:12:42.552Z"
   },
   {
    "duration": 23,
    "start_time": "2022-04-21T19:12:42.582Z"
   },
   {
    "duration": 21,
    "start_time": "2022-04-21T19:12:42.607Z"
   },
   {
    "duration": 13,
    "start_time": "2022-04-21T19:12:42.630Z"
   },
   {
    "duration": 7,
    "start_time": "2022-04-21T19:12:42.645Z"
   },
   {
    "duration": 259,
    "start_time": "2022-04-21T19:12:42.654Z"
   },
   {
    "duration": 18,
    "start_time": "2022-04-21T19:12:42.915Z"
   },
   {
    "duration": 15,
    "start_time": "2022-04-21T19:12:42.935Z"
   },
   {
    "duration": 42,
    "start_time": "2022-04-21T19:12:42.953Z"
   },
   {
    "duration": 10,
    "start_time": "2022-04-21T19:12:42.997Z"
   },
   {
    "duration": 23,
    "start_time": "2022-04-21T19:12:43.010Z"
   },
   {
    "duration": 8,
    "start_time": "2022-04-21T19:12:43.036Z"
   },
   {
    "duration": 11,
    "start_time": "2022-04-21T19:12:43.046Z"
   },
   {
    "duration": 19,
    "start_time": "2022-04-21T19:12:43.082Z"
   },
   {
    "duration": 14,
    "start_time": "2022-04-21T19:12:43.103Z"
   },
   {
    "duration": 27,
    "start_time": "2022-04-21T19:12:43.120Z"
   },
   {
    "duration": 41,
    "start_time": "2022-04-21T19:12:43.149Z"
   },
   {
    "duration": 9,
    "start_time": "2022-04-21T19:12:43.192Z"
   },
   {
    "duration": 28,
    "start_time": "2022-04-21T19:12:43.204Z"
   },
   {
    "duration": 7,
    "start_time": "2022-04-21T19:12:43.235Z"
   },
   {
    "duration": 57,
    "start_time": "2022-04-21T19:12:43.244Z"
   },
   {
    "duration": 5,
    "start_time": "2022-04-21T19:12:43.304Z"
   },
   {
    "duration": 43,
    "start_time": "2022-04-21T19:12:43.311Z"
   },
   {
    "duration": 58,
    "start_time": "2022-04-21T19:12:43.356Z"
   },
   {
    "duration": 29,
    "start_time": "2022-04-21T19:12:43.417Z"
   },
   {
    "duration": 94,
    "start_time": "2022-04-21T19:12:43.449Z"
   },
   {
    "duration": 83,
    "start_time": "2022-04-21T19:12:43.546Z"
   },
   {
    "duration": 75,
    "start_time": "2022-04-21T19:12:43.631Z"
   }
  ],
  "kernelspec": {
   "display_name": "Python 3 (ipykernel)",
   "language": "python",
   "name": "python3"
  },
  "language_info": {
   "codemirror_mode": {
    "name": "ipython",
    "version": 3
   },
   "file_extension": ".py",
   "mimetype": "text/x-python",
   "name": "python",
   "nbconvert_exporter": "python",
   "pygments_lexer": "ipython3",
   "version": "3.9.7"
  },
  "toc": {
   "base_numbering": 1,
   "nav_menu": {
    "height": "51px",
    "width": "304px"
   },
   "number_sections": true,
   "sideBar": true,
   "skip_h1_title": false,
   "title_cell": "Table of Contents",
   "title_sidebar": "Contents",
   "toc_cell": false,
   "toc_position": {
    "height": "calc(100% - 180px)",
    "left": "10px",
    "top": "150px",
    "width": "310px"
   },
   "toc_section_display": true,
   "toc_window_display": true
  },
  "toc-autonumbering": false,
  "toc-showcode": false,
  "toc-showmarkdowntxt": true
 },
 "nbformat": 4,
 "nbformat_minor": 5
}
